{
 "cells": [
  {
   "cell_type": "markdown",
   "id": "53470f8c",
   "metadata": {},
   "source": [
    "## Load data"
   ]
  },
  {
   "cell_type": "code",
   "execution_count": 1,
   "id": "95d38366",
   "metadata": {},
   "outputs": [
    {
     "name": "stdout",
     "output_type": "stream",
     "text": [
      "Loading data...\n",
      "Loaded data.\n"
     ]
    },
    {
     "data": {
      "text/html": [
       "<div>\n",
       "<style scoped>\n",
       "    .dataframe tbody tr th:only-of-type {\n",
       "        vertical-align: middle;\n",
       "    }\n",
       "\n",
       "    .dataframe tbody tr th {\n",
       "        vertical-align: top;\n",
       "    }\n",
       "\n",
       "    .dataframe thead th {\n",
       "        text-align: right;\n",
       "    }\n",
       "</style>\n",
       "<table border=\"1\" class=\"dataframe\">\n",
       "  <thead>\n",
       "    <tr style=\"text-align: right;\">\n",
       "      <th></th>\n",
       "      <th>ID</th>\n",
       "      <th>Language_ID</th>\n",
       "      <th>Cell</th>\n",
       "      <th>Form</th>\n",
       "      <th>Cognateset_ID</th>\n",
       "    </tr>\n",
       "  </thead>\n",
       "  <tbody>\n",
       "    <tr>\n",
       "      <th>0</th>\n",
       "      <td>form_0</td>\n",
       "      <td>Catalan_Western_from_Lleida</td>\n",
       "      <td>[INF]</td>\n",
       "      <td>ˈtindɾe</td>\n",
       "      <td>[tenere]</td>\n",
       "    </tr>\n",
       "    <tr>\n",
       "      <th>1</th>\n",
       "      <td>form_1</td>\n",
       "      <td>Catalan_Western_from_Lleida</td>\n",
       "      <td>[GER]</td>\n",
       "      <td>teˈnin</td>\n",
       "      <td>[tenere]</td>\n",
       "    </tr>\n",
       "    <tr>\n",
       "      <th>2</th>\n",
       "      <td>form_2</td>\n",
       "      <td>Catalan_Western_from_Lleida</td>\n",
       "      <td>[PST-PTCP]</td>\n",
       "      <td>tiŋˈgut</td>\n",
       "      <td>[tenere]</td>\n",
       "    </tr>\n",
       "    <tr>\n",
       "      <th>3</th>\n",
       "      <td>form_3</td>\n",
       "      <td>Catalan_Western_from_Lleida</td>\n",
       "      <td>[IMP, 2SG]</td>\n",
       "      <td>ˈtiŋges</td>\n",
       "      <td>[tenere]</td>\n",
       "    </tr>\n",
       "    <tr>\n",
       "      <th>4</th>\n",
       "      <td>form_4</td>\n",
       "      <td>Catalan_Western_from_Lleida</td>\n",
       "      <td>[IMP, 2SG]</td>\n",
       "      <td>ˈtiŋgos</td>\n",
       "      <td>[tenere]</td>\n",
       "    </tr>\n",
       "    <tr>\n",
       "      <th>...</th>\n",
       "      <td>...</td>\n",
       "      <td>...</td>\n",
       "      <td>...</td>\n",
       "      <td>...</td>\n",
       "      <td>...</td>\n",
       "    </tr>\n",
       "    <tr>\n",
       "      <th>155024</th>\n",
       "      <td>form_155024</td>\n",
       "      <td>Italic_Latino-Faliscan_Latin</td>\n",
       "      <td>[PST-PTCP, PL, NOM, F]</td>\n",
       "      <td>wolaːtaj</td>\n",
       "      <td>[uolare]</td>\n",
       "    </tr>\n",
       "    <tr>\n",
       "      <th>155025</th>\n",
       "      <td>form_155025</td>\n",
       "      <td>Italic_Latino-Faliscan_Latin</td>\n",
       "      <td>[PST-PTCP, PL, NOM, N]</td>\n",
       "      <td>wolaːta</td>\n",
       "      <td>[uolare]</td>\n",
       "    </tr>\n",
       "    <tr>\n",
       "      <th>155026</th>\n",
       "      <td>form_155026</td>\n",
       "      <td>Italic_Latino-Faliscan_Latin</td>\n",
       "      <td>[PST-PTCP, PL, ACC, M]</td>\n",
       "      <td>wolaːtoːs</td>\n",
       "      <td>[uolare]</td>\n",
       "    </tr>\n",
       "    <tr>\n",
       "      <th>155027</th>\n",
       "      <td>form_155027</td>\n",
       "      <td>Italic_Latino-Faliscan_Latin</td>\n",
       "      <td>[PST-PTCP, PL, ACC, F]</td>\n",
       "      <td>wolaːtaːs</td>\n",
       "      <td>[uolare]</td>\n",
       "    </tr>\n",
       "    <tr>\n",
       "      <th>155028</th>\n",
       "      <td>form_155028</td>\n",
       "      <td>Italic_Latino-Faliscan_Latin</td>\n",
       "      <td>[PST-PTCP, PL, ACC, N]</td>\n",
       "      <td>wolaːta</td>\n",
       "      <td>[uolare]</td>\n",
       "    </tr>\n",
       "  </tbody>\n",
       "</table>\n",
       "<p>155029 rows × 5 columns</p>\n",
       "</div>"
      ],
      "text/plain": [
       "                 ID                   Language_ID                    Cell  \\\n",
       "0            form_0   Catalan_Western_from_Lleida                   [INF]   \n",
       "1            form_1   Catalan_Western_from_Lleida                   [GER]   \n",
       "2            form_2   Catalan_Western_from_Lleida              [PST-PTCP]   \n",
       "3            form_3   Catalan_Western_from_Lleida              [IMP, 2SG]   \n",
       "4            form_4   Catalan_Western_from_Lleida              [IMP, 2SG]   \n",
       "...             ...                           ...                     ...   \n",
       "155024  form_155024  Italic_Latino-Faliscan_Latin  [PST-PTCP, PL, NOM, F]   \n",
       "155025  form_155025  Italic_Latino-Faliscan_Latin  [PST-PTCP, PL, NOM, N]   \n",
       "155026  form_155026  Italic_Latino-Faliscan_Latin  [PST-PTCP, PL, ACC, M]   \n",
       "155027  form_155027  Italic_Latino-Faliscan_Latin  [PST-PTCP, PL, ACC, F]   \n",
       "155028  form_155028  Italic_Latino-Faliscan_Latin  [PST-PTCP, PL, ACC, N]   \n",
       "\n",
       "             Form Cognateset_ID  \n",
       "0         ˈtindɾe      [tenere]  \n",
       "1          teˈnin      [tenere]  \n",
       "2         tiŋˈgut      [tenere]  \n",
       "3         ˈtiŋges      [tenere]  \n",
       "4         ˈtiŋgos      [tenere]  \n",
       "...           ...           ...  \n",
       "155024   wolaːtaj      [uolare]  \n",
       "155025    wolaːta      [uolare]  \n",
       "155026  wolaːtoːs      [uolare]  \n",
       "155027  wolaːtaːs      [uolare]  \n",
       "155028    wolaːta      [uolare]  \n",
       "\n",
       "[155029 rows x 5 columns]"
      ]
     },
     "metadata": {},
     "output_type": "display_data"
    },
    {
     "data": {
      "text/plain": [
       "74"
      ]
     },
     "execution_count": 1,
     "metadata": {},
     "output_type": "execute_result"
    }
   ],
   "source": [
    "import data\n",
    "\n",
    "forms_df,cognates_df,lects_df = data.load_romance_dataset()\n",
    "display(forms_df)\n",
    "\n",
    "len(forms_df[\"Language_ID\"].unique())\n"
   ]
  },
  {
   "cell_type": "markdown",
   "id": "3423188f",
   "metadata": {},
   "source": [
    "## Filter data"
   ]
  },
  {
   "cell_type": "code",
   "execution_count": 2,
   "id": "b9a31781",
   "metadata": {},
   "outputs": [
    {
     "data": {
      "text/html": [
       "<div>\n",
       "<style scoped>\n",
       "    .dataframe tbody tr th:only-of-type {\n",
       "        vertical-align: middle;\n",
       "    }\n",
       "\n",
       "    .dataframe tbody tr th {\n",
       "        vertical-align: top;\n",
       "    }\n",
       "\n",
       "    .dataframe thead th {\n",
       "        text-align: right;\n",
       "    }\n",
       "</style>\n",
       "<table border=\"1\" class=\"dataframe\">\n",
       "  <thead>\n",
       "    <tr style=\"text-align: right;\">\n",
       "      <th></th>\n",
       "      <th>ID</th>\n",
       "      <th>Language_ID</th>\n",
       "      <th>Cell</th>\n",
       "      <th>Form</th>\n",
       "      <th>Cognateset_ID</th>\n",
       "      <th>Cognateset_ID_first</th>\n",
       "    </tr>\n",
       "  </thead>\n",
       "  <tbody>\n",
       "    <tr>\n",
       "      <th>0</th>\n",
       "      <td>form_0</td>\n",
       "      <td>Catalan_Western_from_Lleida</td>\n",
       "      <td>[INF]</td>\n",
       "      <td>ˈtindɾe</td>\n",
       "      <td>[tenere]</td>\n",
       "      <td>tenere</td>\n",
       "    </tr>\n",
       "    <tr>\n",
       "      <th>1</th>\n",
       "      <td>form_1</td>\n",
       "      <td>Catalan_Western_from_Lleida</td>\n",
       "      <td>[GER]</td>\n",
       "      <td>teˈnin</td>\n",
       "      <td>[tenere]</td>\n",
       "      <td>tenere</td>\n",
       "    </tr>\n",
       "    <tr>\n",
       "      <th>2</th>\n",
       "      <td>form_2</td>\n",
       "      <td>Catalan_Western_from_Lleida</td>\n",
       "      <td>[PST-PTCP]</td>\n",
       "      <td>tiŋˈgut</td>\n",
       "      <td>[tenere]</td>\n",
       "      <td>tenere</td>\n",
       "    </tr>\n",
       "    <tr>\n",
       "      <th>3</th>\n",
       "      <td>form_3</td>\n",
       "      <td>Catalan_Western_from_Lleida</td>\n",
       "      <td>[IMP, 2SG]</td>\n",
       "      <td>ˈtiŋges</td>\n",
       "      <td>[tenere]</td>\n",
       "      <td>tenere</td>\n",
       "    </tr>\n",
       "    <tr>\n",
       "      <th>4</th>\n",
       "      <td>form_4</td>\n",
       "      <td>Catalan_Western_from_Lleida</td>\n",
       "      <td>[IMP, 2SG]</td>\n",
       "      <td>ˈtiŋgos</td>\n",
       "      <td>[tenere]</td>\n",
       "      <td>tenere</td>\n",
       "    </tr>\n",
       "    <tr>\n",
       "      <th>...</th>\n",
       "      <td>...</td>\n",
       "      <td>...</td>\n",
       "      <td>...</td>\n",
       "      <td>...</td>\n",
       "      <td>...</td>\n",
       "      <td>...</td>\n",
       "    </tr>\n",
       "    <tr>\n",
       "      <th>155024</th>\n",
       "      <td>form_155024</td>\n",
       "      <td>Italic_Latino-Faliscan_Latin</td>\n",
       "      <td>[PST-PTCP, PL, NOM, F]</td>\n",
       "      <td>wolaːtaj</td>\n",
       "      <td>[uolare]</td>\n",
       "      <td>uolare</td>\n",
       "    </tr>\n",
       "    <tr>\n",
       "      <th>155025</th>\n",
       "      <td>form_155025</td>\n",
       "      <td>Italic_Latino-Faliscan_Latin</td>\n",
       "      <td>[PST-PTCP, PL, NOM, N]</td>\n",
       "      <td>wolaːta</td>\n",
       "      <td>[uolare]</td>\n",
       "      <td>uolare</td>\n",
       "    </tr>\n",
       "    <tr>\n",
       "      <th>155026</th>\n",
       "      <td>form_155026</td>\n",
       "      <td>Italic_Latino-Faliscan_Latin</td>\n",
       "      <td>[PST-PTCP, PL, ACC, M]</td>\n",
       "      <td>wolaːtoːs</td>\n",
       "      <td>[uolare]</td>\n",
       "      <td>uolare</td>\n",
       "    </tr>\n",
       "    <tr>\n",
       "      <th>155027</th>\n",
       "      <td>form_155027</td>\n",
       "      <td>Italic_Latino-Faliscan_Latin</td>\n",
       "      <td>[PST-PTCP, PL, ACC, F]</td>\n",
       "      <td>wolaːtaːs</td>\n",
       "      <td>[uolare]</td>\n",
       "      <td>uolare</td>\n",
       "    </tr>\n",
       "    <tr>\n",
       "      <th>155028</th>\n",
       "      <td>form_155028</td>\n",
       "      <td>Italic_Latino-Faliscan_Latin</td>\n",
       "      <td>[PST-PTCP, PL, ACC, N]</td>\n",
       "      <td>wolaːta</td>\n",
       "      <td>[uolare]</td>\n",
       "      <td>uolare</td>\n",
       "    </tr>\n",
       "  </tbody>\n",
       "</table>\n",
       "<p>90511 rows × 6 columns</p>\n",
       "</div>"
      ],
      "text/plain": [
       "                 ID                   Language_ID                    Cell  \\\n",
       "0            form_0   Catalan_Western_from_Lleida                   [INF]   \n",
       "1            form_1   Catalan_Western_from_Lleida                   [GER]   \n",
       "2            form_2   Catalan_Western_from_Lleida              [PST-PTCP]   \n",
       "3            form_3   Catalan_Western_from_Lleida              [IMP, 2SG]   \n",
       "4            form_4   Catalan_Western_from_Lleida              [IMP, 2SG]   \n",
       "...             ...                           ...                     ...   \n",
       "155024  form_155024  Italic_Latino-Faliscan_Latin  [PST-PTCP, PL, NOM, F]   \n",
       "155025  form_155025  Italic_Latino-Faliscan_Latin  [PST-PTCP, PL, NOM, N]   \n",
       "155026  form_155026  Italic_Latino-Faliscan_Latin  [PST-PTCP, PL, ACC, M]   \n",
       "155027  form_155027  Italic_Latino-Faliscan_Latin  [PST-PTCP, PL, ACC, F]   \n",
       "155028  form_155028  Italic_Latino-Faliscan_Latin  [PST-PTCP, PL, ACC, N]   \n",
       "\n",
       "             Form Cognateset_ID Cognateset_ID_first  \n",
       "0         ˈtindɾe      [tenere]              tenere  \n",
       "1          teˈnin      [tenere]              tenere  \n",
       "2         tiŋˈgut      [tenere]              tenere  \n",
       "3         ˈtiŋges      [tenere]              tenere  \n",
       "4         ˈtiŋgos      [tenere]              tenere  \n",
       "...           ...           ...                 ...  \n",
       "155024   wolaːtaj      [uolare]              uolare  \n",
       "155025    wolaːta      [uolare]              uolare  \n",
       "155026  wolaːtoːs      [uolare]              uolare  \n",
       "155027  wolaːtaːs      [uolare]              uolare  \n",
       "155028    wolaːta      [uolare]              uolare  \n",
       "\n",
       "[90511 rows x 6 columns]"
      ]
     },
     "metadata": {},
     "output_type": "display_data"
    }
   ],
   "source": [
    "forms_df_1cognate = data.filter_romance_empty_multicog(forms_df)\n",
    "display(forms_df_1cognate)"
   ]
  },
  {
   "cell_type": "markdown",
   "id": "2d2e2789",
   "metadata": {},
   "source": [
    "## Filter on Latin inflection classes"
   ]
  },
  {
   "cell_type": "code",
   "execution_count": 3,
   "id": "f13cb5c1",
   "metadata": {},
   "outputs": [
    {
     "name": "stdout",
     "output_type": "stream",
     "text": [
      "86290\n"
     ]
    },
    {
     "data": {
      "text/html": [
       "<div>\n",
       "<style scoped>\n",
       "    .dataframe tbody tr th:only-of-type {\n",
       "        vertical-align: middle;\n",
       "    }\n",
       "\n",
       "    .dataframe tbody tr th {\n",
       "        vertical-align: top;\n",
       "    }\n",
       "\n",
       "    .dataframe thead th {\n",
       "        text-align: right;\n",
       "    }\n",
       "</style>\n",
       "<table border=\"1\" class=\"dataframe\">\n",
       "  <thead>\n",
       "    <tr style=\"text-align: right;\">\n",
       "      <th></th>\n",
       "      <th>ID_x</th>\n",
       "      <th>Cell</th>\n",
       "      <th>Form</th>\n",
       "      <th>Cognateset_ID</th>\n",
       "      <th>Cognateset_ID_first</th>\n",
       "      <th>ID_y</th>\n",
       "      <th>Etymon</th>\n",
       "      <th>Derived_from</th>\n",
       "      <th>Language_of_the_etymon</th>\n",
       "      <th>Latin_Conjugation</th>\n",
       "      <th>Part_Of_Speech</th>\n",
       "      <th>LemLat_ID</th>\n",
       "    </tr>\n",
       "    <tr>\n",
       "      <th>Language_ID</th>\n",
       "      <th></th>\n",
       "      <th></th>\n",
       "      <th></th>\n",
       "      <th></th>\n",
       "      <th></th>\n",
       "      <th></th>\n",
       "      <th></th>\n",
       "      <th></th>\n",
       "      <th></th>\n",
       "      <th></th>\n",
       "      <th></th>\n",
       "      <th></th>\n",
       "    </tr>\n",
       "  </thead>\n",
       "  <tbody>\n",
       "    <tr>\n",
       "      <th>Italic_Latino-Faliscan_Latin</th>\n",
       "      <td>15651</td>\n",
       "      <td>15651</td>\n",
       "      <td>15651</td>\n",
       "      <td>15651</td>\n",
       "      <td>15651</td>\n",
       "      <td>15651</td>\n",
       "      <td>15651</td>\n",
       "      <td>2344</td>\n",
       "      <td>15651</td>\n",
       "      <td>15651</td>\n",
       "      <td>15651</td>\n",
       "      <td>15651</td>\n",
       "    </tr>\n",
       "    <tr>\n",
       "      <th>Swiss_Raeto-Romance_Surselvan</th>\n",
       "      <td>2980</td>\n",
       "      <td>2980</td>\n",
       "      <td>2980</td>\n",
       "      <td>2980</td>\n",
       "      <td>2980</td>\n",
       "      <td>2980</td>\n",
       "      <td>2980</td>\n",
       "      <td>383</td>\n",
       "      <td>2980</td>\n",
       "      <td>2980</td>\n",
       "      <td>2980</td>\n",
       "      <td>2760</td>\n",
       "    </tr>\n",
       "    <tr>\n",
       "      <th>Swiss_Raeto-Romance_Puter_Upper_Engadine</th>\n",
       "      <td>2726</td>\n",
       "      <td>2726</td>\n",
       "      <td>2726</td>\n",
       "      <td>2726</td>\n",
       "      <td>2726</td>\n",
       "      <td>2726</td>\n",
       "      <td>2726</td>\n",
       "      <td>147</td>\n",
       "      <td>2726</td>\n",
       "      <td>2726</td>\n",
       "      <td>2726</td>\n",
       "      <td>2583</td>\n",
       "    </tr>\n",
       "    <tr>\n",
       "      <th>Galego-Portuguese_Portuguese</th>\n",
       "      <td>2713</td>\n",
       "      <td>2713</td>\n",
       "      <td>2713</td>\n",
       "      <td>2713</td>\n",
       "      <td>2713</td>\n",
       "      <td>2713</td>\n",
       "      <td>2713</td>\n",
       "      <td>124</td>\n",
       "      <td>2713</td>\n",
       "      <td>2713</td>\n",
       "      <td>2713</td>\n",
       "      <td>2514</td>\n",
       "    </tr>\n",
       "    <tr>\n",
       "      <th>French_Modern_Standard</th>\n",
       "      <td>2700</td>\n",
       "      <td>2700</td>\n",
       "      <td>2700</td>\n",
       "      <td>2700</td>\n",
       "      <td>2700</td>\n",
       "      <td>2700</td>\n",
       "      <td>2700</td>\n",
       "      <td>381</td>\n",
       "      <td>2700</td>\n",
       "      <td>2700</td>\n",
       "      <td>2700</td>\n",
       "      <td>2643</td>\n",
       "    </tr>\n",
       "    <tr>\n",
       "      <th>Spanish_Modern_Standard</th>\n",
       "      <td>2328</td>\n",
       "      <td>2328</td>\n",
       "      <td>2328</td>\n",
       "      <td>2328</td>\n",
       "      <td>2328</td>\n",
       "      <td>2328</td>\n",
       "      <td>2328</td>\n",
       "      <td>108</td>\n",
       "      <td>2328</td>\n",
       "      <td>2328</td>\n",
       "      <td>2328</td>\n",
       "      <td>2328</td>\n",
       "    </tr>\n",
       "    <tr>\n",
       "      <th>Italian_Central_Modern_Standard</th>\n",
       "      <td>2155</td>\n",
       "      <td>2155</td>\n",
       "      <td>2155</td>\n",
       "      <td>2155</td>\n",
       "      <td>2155</td>\n",
       "      <td>2155</td>\n",
       "      <td>2155</td>\n",
       "      <td>96</td>\n",
       "      <td>2155</td>\n",
       "      <td>2155</td>\n",
       "      <td>2155</td>\n",
       "      <td>2107</td>\n",
       "    </tr>\n",
       "    <tr>\n",
       "      <th>Romanian_Modern_Standard</th>\n",
       "      <td>1952</td>\n",
       "      <td>1952</td>\n",
       "      <td>1952</td>\n",
       "      <td>1952</td>\n",
       "      <td>1952</td>\n",
       "      <td>1952</td>\n",
       "      <td>1952</td>\n",
       "      <td>148</td>\n",
       "      <td>1952</td>\n",
       "      <td>1952</td>\n",
       "      <td>1952</td>\n",
       "      <td>1767</td>\n",
       "    </tr>\n",
       "    <tr>\n",
       "      <th>Occitan_Southern_Provencal_from_Nice</th>\n",
       "      <td>1852</td>\n",
       "      <td>1852</td>\n",
       "      <td>1852</td>\n",
       "      <td>1852</td>\n",
       "      <td>1852</td>\n",
       "      <td>1852</td>\n",
       "      <td>1852</td>\n",
       "      <td>48</td>\n",
       "      <td>1852</td>\n",
       "      <td>1852</td>\n",
       "      <td>1852</td>\n",
       "      <td>1792</td>\n",
       "    </tr>\n",
       "    <tr>\n",
       "      <th>Occitan_Northern_Vivaro-Alpin_from_Seyne</th>\n",
       "      <td>1600</td>\n",
       "      <td>1600</td>\n",
       "      <td>1600</td>\n",
       "      <td>1600</td>\n",
       "      <td>1600</td>\n",
       "      <td>1600</td>\n",
       "      <td>1600</td>\n",
       "      <td>144</td>\n",
       "      <td>1600</td>\n",
       "      <td>1600</td>\n",
       "      <td>1600</td>\n",
       "      <td>1458</td>\n",
       "    </tr>\n",
       "  </tbody>\n",
       "</table>\n",
       "</div>"
      ],
      "text/plain": [
       "                                           ID_x   Cell   Form  Cognateset_ID  \\\n",
       "Language_ID                                                                    \n",
       "Italic_Latino-Faliscan_Latin              15651  15651  15651          15651   \n",
       "Swiss_Raeto-Romance_Surselvan              2980   2980   2980           2980   \n",
       "Swiss_Raeto-Romance_Puter_Upper_Engadine   2726   2726   2726           2726   \n",
       "Galego-Portuguese_Portuguese               2713   2713   2713           2713   \n",
       "French_Modern_Standard                     2700   2700   2700           2700   \n",
       "Spanish_Modern_Standard                    2328   2328   2328           2328   \n",
       "Italian_Central_Modern_Standard            2155   2155   2155           2155   \n",
       "Romanian_Modern_Standard                   1952   1952   1952           1952   \n",
       "Occitan_Southern_Provencal_from_Nice       1852   1852   1852           1852   \n",
       "Occitan_Northern_Vivaro-Alpin_from_Seyne   1600   1600   1600           1600   \n",
       "\n",
       "                                          Cognateset_ID_first   ID_y  Etymon  \\\n",
       "Language_ID                                                                    \n",
       "Italic_Latino-Faliscan_Latin                            15651  15651   15651   \n",
       "Swiss_Raeto-Romance_Surselvan                            2980   2980    2980   \n",
       "Swiss_Raeto-Romance_Puter_Upper_Engadine                 2726   2726    2726   \n",
       "Galego-Portuguese_Portuguese                             2713   2713    2713   \n",
       "French_Modern_Standard                                   2700   2700    2700   \n",
       "Spanish_Modern_Standard                                  2328   2328    2328   \n",
       "Italian_Central_Modern_Standard                          2155   2155    2155   \n",
       "Romanian_Modern_Standard                                 1952   1952    1952   \n",
       "Occitan_Southern_Provencal_from_Nice                     1852   1852    1852   \n",
       "Occitan_Northern_Vivaro-Alpin_from_Seyne                 1600   1600    1600   \n",
       "\n",
       "                                          Derived_from  \\\n",
       "Language_ID                                              \n",
       "Italic_Latino-Faliscan_Latin                      2344   \n",
       "Swiss_Raeto-Romance_Surselvan                      383   \n",
       "Swiss_Raeto-Romance_Puter_Upper_Engadine           147   \n",
       "Galego-Portuguese_Portuguese                       124   \n",
       "French_Modern_Standard                             381   \n",
       "Spanish_Modern_Standard                            108   \n",
       "Italian_Central_Modern_Standard                     96   \n",
       "Romanian_Modern_Standard                           148   \n",
       "Occitan_Southern_Provencal_from_Nice                48   \n",
       "Occitan_Northern_Vivaro-Alpin_from_Seyne           144   \n",
       "\n",
       "                                          Language_of_the_etymon  \\\n",
       "Language_ID                                                        \n",
       "Italic_Latino-Faliscan_Latin                               15651   \n",
       "Swiss_Raeto-Romance_Surselvan                               2980   \n",
       "Swiss_Raeto-Romance_Puter_Upper_Engadine                    2726   \n",
       "Galego-Portuguese_Portuguese                                2713   \n",
       "French_Modern_Standard                                      2700   \n",
       "Spanish_Modern_Standard                                     2328   \n",
       "Italian_Central_Modern_Standard                             2155   \n",
       "Romanian_Modern_Standard                                    1952   \n",
       "Occitan_Southern_Provencal_from_Nice                        1852   \n",
       "Occitan_Northern_Vivaro-Alpin_from_Seyne                    1600   \n",
       "\n",
       "                                          Latin_Conjugation  Part_Of_Speech  \\\n",
       "Language_ID                                                                   \n",
       "Italic_Latino-Faliscan_Latin                          15651           15651   \n",
       "Swiss_Raeto-Romance_Surselvan                          2980            2980   \n",
       "Swiss_Raeto-Romance_Puter_Upper_Engadine               2726            2726   \n",
       "Galego-Portuguese_Portuguese                           2713            2713   \n",
       "French_Modern_Standard                                 2700            2700   \n",
       "Spanish_Modern_Standard                                2328            2328   \n",
       "Italian_Central_Modern_Standard                        2155            2155   \n",
       "Romanian_Modern_Standard                               1952            1952   \n",
       "Occitan_Southern_Provencal_from_Nice                   1852            1852   \n",
       "Occitan_Northern_Vivaro-Alpin_from_Seyne               1600            1600   \n",
       "\n",
       "                                          LemLat_ID  \n",
       "Language_ID                                          \n",
       "Italic_Latino-Faliscan_Latin                  15651  \n",
       "Swiss_Raeto-Romance_Surselvan                  2760  \n",
       "Swiss_Raeto-Romance_Puter_Upper_Engadine       2583  \n",
       "Galego-Portuguese_Portuguese                   2514  \n",
       "French_Modern_Standard                         2643  \n",
       "Spanish_Modern_Standard                        2328  \n",
       "Italian_Central_Modern_Standard                2107  \n",
       "Romanian_Modern_Standard                       1767  \n",
       "Occitan_Southern_Provencal_from_Nice           1792  \n",
       "Occitan_Northern_Vivaro-Alpin_from_Seyne       1458  "
      ]
     },
     "metadata": {},
     "output_type": "display_data"
    }
   ],
   "source": [
    "latin_conjugation_df = data.filter_romance_inflections(forms_df_1cognate, cognates_df)\n",
    "print(len(latin_conjugation_df))\n",
    "grouped_by_lang = latin_conjugation_df.groupby(\"Language_ID\").count().sort_values(by=\"ID_x\", ascending=False).head(10)\n",
    "display(grouped_by_lang)\n",
    "#grouped_by_lang[\"Form\"].to_csv(\"langs.tex\", sep=\"&\", line_terminator = \"\\\\\\\\\\n\")\n"
   ]
  },
  {
   "cell_type": "markdown",
   "id": "c0cf3da8",
   "metadata": {},
   "source": [
    "## Show type and token frequency of inflection classes for French"
   ]
  },
  {
   "cell_type": "code",
   "execution_count": 4,
   "id": "330770f8",
   "metadata": {},
   "outputs": [
    {
     "name": "stdout",
     "output_type": "stream",
     "text": [
      "Token count\n"
     ]
    },
    {
     "data": {
      "text/plain": [
       "Latin_Conjugation\n",
       "I           144\n",
       "II          647\n",
       "III        1528\n",
       "IV          287\n",
       "special      94\n",
       "Name: Form, dtype: int64"
      ]
     },
     "metadata": {},
     "output_type": "display_data"
    },
    {
     "name": "stdout",
     "output_type": "stream",
     "text": [
      "Type count\n"
     ]
    },
    {
     "data": {
      "text/plain": [
       "Latin_Conjugation\n",
       "I           3\n",
       "II         14\n",
       "III        35\n",
       "IV          6\n",
       "special     2\n",
       "Name: Form, dtype: int64"
      ]
     },
     "metadata": {},
     "output_type": "display_data"
    }
   ],
   "source": [
    "import pandas as pd\n",
    "french_df = latin_conjugation_df[latin_conjugation_df[\"Language_ID\"]==\"French_Modern_Standard\"]\n",
    "print(\"Token count\")\n",
    "display(french_df.groupby(\"Latin_Conjugation\").count()[\"Form\"])\n",
    "\n",
    "print(\"Type count\")\n",
    "display(french_df.drop_duplicates(subset=\"Cognateset_ID_first\").groupby(\"Latin_Conjugation\").count()[\"Form\"])"
   ]
  },
  {
   "cell_type": "markdown",
   "id": "272f58b7",
   "metadata": {},
   "source": [
    "## Create dataset per language"
   ]
  },
  {
   "cell_type": "code",
   "execution_count": 5,
   "id": "fd899966",
   "metadata": {},
   "outputs": [
    {
     "name": "stderr",
     "output_type": "stream",
     "text": [
      "/home/peter/.pyenv/versions/env37/lib/python3.7/site-packages/tensorflow/python/framework/dtypes.py:526: FutureWarning: Passing (type, 1) or '1type' as a synonym of type is deprecated; in a future version of numpy, it will be understood as (type, (1,)) / '(1,)type'.\n",
      "  _np_qint8 = np.dtype([(\"qint8\", np.int8, 1)])\n",
      "/home/peter/.pyenv/versions/env37/lib/python3.7/site-packages/tensorflow/python/framework/dtypes.py:527: FutureWarning: Passing (type, 1) or '1type' as a synonym of type is deprecated; in a future version of numpy, it will be understood as (type, (1,)) / '(1,)type'.\n",
      "  _np_quint8 = np.dtype([(\"quint8\", np.uint8, 1)])\n",
      "/home/peter/.pyenv/versions/env37/lib/python3.7/site-packages/tensorflow/python/framework/dtypes.py:528: FutureWarning: Passing (type, 1) or '1type' as a synonym of type is deprecated; in a future version of numpy, it will be understood as (type, (1,)) / '(1,)type'.\n",
      "  _np_qint16 = np.dtype([(\"qint16\", np.int16, 1)])\n",
      "/home/peter/.pyenv/versions/env37/lib/python3.7/site-packages/tensorflow/python/framework/dtypes.py:529: FutureWarning: Passing (type, 1) or '1type' as a synonym of type is deprecated; in a future version of numpy, it will be understood as (type, (1,)) / '(1,)type'.\n",
      "  _np_quint16 = np.dtype([(\"quint16\", np.uint16, 1)])\n",
      "/home/peter/.pyenv/versions/env37/lib/python3.7/site-packages/tensorflow/python/framework/dtypes.py:530: FutureWarning: Passing (type, 1) or '1type' as a synonym of type is deprecated; in a future version of numpy, it will be understood as (type, (1,)) / '(1,)type'.\n",
      "  _np_qint32 = np.dtype([(\"qint32\", np.int32, 1)])\n",
      "/home/peter/.pyenv/versions/env37/lib/python3.7/site-packages/tensorflow/python/framework/dtypes.py:535: FutureWarning: Passing (type, 1) or '1type' as a synonym of type is deprecated; in a future version of numpy, it will be understood as (type, (1,)) / '(1,)type'.\n",
      "  np_resource = np.dtype([(\"resource\", np.ubyte, 1)])\n"
     ]
    }
   ],
   "source": [
    "import evaluation\n",
    "import numpy as np\n",
    "\n",
    "forms_onehot, inflections_onehot, forms, inflections, cogids = data.create_language_dataset(latin_conjugation_df, \"French_Modern_Standard\", empty_symbol=True)\n",
    "forms_inflections_onehot = np.concatenate((forms_onehot, inflections_onehot), axis=1)\n",
    "\n",
    "inflections_empty = np.zeros(inflections_onehot.shape)\n",
    "forms_empty_inflections_onehot = np.concatenate((forms_onehot, inflections_empty), axis=1)\n",
    "\n"
   ]
  },
  {
   "cell_type": "markdown",
   "id": "cfb3f39b",
   "metadata": {},
   "source": [
    "## Plot forms without inflection class"
   ]
  },
  {
   "cell_type": "code",
   "execution_count": 6,
   "id": "206d3e7e",
   "metadata": {},
   "outputs": [
    {
     "name": "stderr",
     "output_type": "stream",
     "text": [
      "/home/peter/.pyenv/versions/env37/lib/python3.7/site-packages/sklearn/manifold/_t_sne.py:986: FutureWarning: The PCA initialization in TSNE will change to have the standard deviation of PC1 equal to 1e-4 in 1.2. This will ensure better convergence.\n",
      "  FutureWarning,\n"
     ]
    },
    {
     "name": "stdout",
     "output_type": "stream",
     "text": [
      "Silhouette score: -0.05731380347086315\n"
     ]
    },
    {
     "data": {
      "text/plain": [
       "<Figure size 2000x1200 with 0 Axes>"
      ]
     },
     "metadata": {},
     "output_type": "display_data"
    }
   ],
   "source": [
    "score = evaluation.plot_data(forms_empty_inflections_onehot, labels=None, clusters=inflections, micro_clusters=cogids, file_label=\"data\")\n",
    "print (f\"Silhouette score: {score}\")"
   ]
  },
  {
   "cell_type": "markdown",
   "id": "aec5d494",
   "metadata": {},
   "source": [
    "## Plot forms with inflection class"
   ]
  },
  {
   "cell_type": "code",
   "execution_count": 7,
   "id": "af606f80",
   "metadata": {},
   "outputs": [
    {
     "name": "stderr",
     "output_type": "stream",
     "text": [
      "/home/peter/.pyenv/versions/env37/lib/python3.7/site-packages/sklearn/manifold/_t_sne.py:986: FutureWarning: The PCA initialization in TSNE will change to have the standard deviation of PC1 equal to 1e-4 in 1.2. This will ensure better convergence.\n",
      "  FutureWarning,\n"
     ]
    },
    {
     "name": "stdout",
     "output_type": "stream",
     "text": [
      "Silhouette score: 0.10929388948145342\n"
     ]
    },
    {
     "data": {
      "text/plain": [
       "<Figure size 2000x1200 with 0 Axes>"
      ]
     },
     "metadata": {},
     "output_type": "display_data"
    }
   ],
   "source": [
    "score = evaluation.plot_data(forms_inflections_onehot, labels=None, clusters=inflections, micro_clusters=cogids, file_label=\"data-inflections\")\n",
    "print (f\"Silhouette score: {score}\")"
   ]
  },
  {
   "cell_type": "markdown",
   "id": "cc679dcb",
   "metadata": {},
   "source": [
    "## ART 1 run"
   ]
  },
  {
   "cell_type": "code",
   "execution_count": 8,
   "id": "50c7b691",
   "metadata": {},
   "outputs": [
    {
     "name": "stdout",
     "output_type": "stream",
     "text": [
      " - Vigilance: 0.0\n",
      " -- Run: 0\n"
     ]
    },
    {
     "name": "stderr",
     "output_type": "stream",
     "text": [
      "/home/peter/.pyenv/versions/env37/lib/python3.7/site-packages/sklearn/manifold/_t_sne.py:986: FutureWarning: The PCA initialization in TSNE will change to have the standard deviation of PC1 equal to 1e-4 in 1.2. This will ensure better convergence.\n",
      "  FutureWarning,\n"
     ]
    },
    {
     "name": "stdout",
     "output_type": "stream",
     "text": [
      " - Vigilance: 0.05\n",
      " -- Run: 0\n"
     ]
    },
    {
     "name": "stderr",
     "output_type": "stream",
     "text": [
      "/home/peter/.pyenv/versions/env37/lib/python3.7/site-packages/sklearn/manifold/_t_sne.py:986: FutureWarning: The PCA initialization in TSNE will change to have the standard deviation of PC1 equal to 1e-4 in 1.2. This will ensure better convergence.\n",
      "  FutureWarning,\n"
     ]
    },
    {
     "name": "stdout",
     "output_type": "stream",
     "text": [
      " - Vigilance: 0.1\n",
      " -- Run: 0\n"
     ]
    },
    {
     "name": "stderr",
     "output_type": "stream",
     "text": [
      "/home/peter/.pyenv/versions/env37/lib/python3.7/site-packages/sklearn/manifold/_t_sne.py:986: FutureWarning: The PCA initialization in TSNE will change to have the standard deviation of PC1 equal to 1e-4 in 1.2. This will ensure better convergence.\n",
      "  FutureWarning,\n"
     ]
    },
    {
     "name": "stdout",
     "output_type": "stream",
     "text": [
      " - Vigilance: 0.15000000000000002\n",
      " -- Run: 0\n"
     ]
    },
    {
     "name": "stderr",
     "output_type": "stream",
     "text": [
      "/home/peter/.pyenv/versions/env37/lib/python3.7/site-packages/sklearn/manifold/_t_sne.py:986: FutureWarning: The PCA initialization in TSNE will change to have the standard deviation of PC1 equal to 1e-4 in 1.2. This will ensure better convergence.\n",
      "  FutureWarning,\n"
     ]
    },
    {
     "name": "stdout",
     "output_type": "stream",
     "text": [
      " - Vigilance: 0.2\n",
      " -- Run: 0\n"
     ]
    },
    {
     "name": "stderr",
     "output_type": "stream",
     "text": [
      "/home/peter/.pyenv/versions/env37/lib/python3.7/site-packages/sklearn/manifold/_t_sne.py:986: FutureWarning: The PCA initialization in TSNE will change to have the standard deviation of PC1 equal to 1e-4 in 1.2. This will ensure better convergence.\n",
      "  FutureWarning,\n"
     ]
    },
    {
     "name": "stdout",
     "output_type": "stream",
     "text": [
      " - Vigilance: 0.25\n",
      " -- Run: 0\n"
     ]
    },
    {
     "name": "stderr",
     "output_type": "stream",
     "text": [
      "/home/peter/.pyenv/versions/env37/lib/python3.7/site-packages/sklearn/manifold/_t_sne.py:986: FutureWarning: The PCA initialization in TSNE will change to have the standard deviation of PC1 equal to 1e-4 in 1.2. This will ensure better convergence.\n",
      "  FutureWarning,\n"
     ]
    },
    {
     "name": "stdout",
     "output_type": "stream",
     "text": [
      " - Vigilance: 0.30000000000000004\n",
      " -- Run: 0\n"
     ]
    },
    {
     "name": "stderr",
     "output_type": "stream",
     "text": [
      "/home/peter/.pyenv/versions/env37/lib/python3.7/site-packages/sklearn/manifold/_t_sne.py:986: FutureWarning: The PCA initialization in TSNE will change to have the standard deviation of PC1 equal to 1e-4 in 1.2. This will ensure better convergence.\n",
      "  FutureWarning,\n"
     ]
    },
    {
     "name": "stdout",
     "output_type": "stream",
     "text": [
      " - Vigilance: 0.35000000000000003\n",
      " -- Run: 0\n"
     ]
    },
    {
     "name": "stderr",
     "output_type": "stream",
     "text": [
      "/home/peter/.pyenv/versions/env37/lib/python3.7/site-packages/sklearn/manifold/_t_sne.py:986: FutureWarning: The PCA initialization in TSNE will change to have the standard deviation of PC1 equal to 1e-4 in 1.2. This will ensure better convergence.\n",
      "  FutureWarning,\n"
     ]
    },
    {
     "name": "stdout",
     "output_type": "stream",
     "text": [
      " - Vigilance: 0.4\n",
      " -- Run: 0\n"
     ]
    },
    {
     "name": "stderr",
     "output_type": "stream",
     "text": [
      "/home/peter/.pyenv/versions/env37/lib/python3.7/site-packages/sklearn/manifold/_t_sne.py:986: FutureWarning: The PCA initialization in TSNE will change to have the standard deviation of PC1 equal to 1e-4 in 1.2. This will ensure better convergence.\n",
      "  FutureWarning,\n"
     ]
    },
    {
     "name": "stdout",
     "output_type": "stream",
     "text": [
      " - Vigilance: 0.45\n",
      " -- Run: 0\n"
     ]
    },
    {
     "name": "stderr",
     "output_type": "stream",
     "text": [
      "/home/peter/.pyenv/versions/env37/lib/python3.7/site-packages/sklearn/manifold/_t_sne.py:986: FutureWarning: The PCA initialization in TSNE will change to have the standard deviation of PC1 equal to 1e-4 in 1.2. This will ensure better convergence.\n",
      "  FutureWarning,\n"
     ]
    },
    {
     "name": "stdout",
     "output_type": "stream",
     "text": [
      " - Vigilance: 0.5\n",
      " -- Run: 0\n"
     ]
    },
    {
     "name": "stderr",
     "output_type": "stream",
     "text": [
      "/home/peter/.pyenv/versions/env37/lib/python3.7/site-packages/sklearn/manifold/_t_sne.py:986: FutureWarning: The PCA initialization in TSNE will change to have the standard deviation of PC1 equal to 1e-4 in 1.2. This will ensure better convergence.\n",
      "  FutureWarning,\n"
     ]
    },
    {
     "name": "stdout",
     "output_type": "stream",
     "text": [
      " - Vigilance: 0.55\n",
      " -- Run: 0\n"
     ]
    },
    {
     "name": "stderr",
     "output_type": "stream",
     "text": [
      "/home/peter/.pyenv/versions/env37/lib/python3.7/site-packages/sklearn/manifold/_t_sne.py:986: FutureWarning: The PCA initialization in TSNE will change to have the standard deviation of PC1 equal to 1e-4 in 1.2. This will ensure better convergence.\n",
      "  FutureWarning,\n"
     ]
    },
    {
     "name": "stdout",
     "output_type": "stream",
     "text": [
      " - Vigilance: 0.6000000000000001\n",
      " -- Run: 0\n"
     ]
    },
    {
     "name": "stderr",
     "output_type": "stream",
     "text": [
      "/home/peter/.pyenv/versions/env37/lib/python3.7/site-packages/sklearn/manifold/_t_sne.py:986: FutureWarning: The PCA initialization in TSNE will change to have the standard deviation of PC1 equal to 1e-4 in 1.2. This will ensure better convergence.\n",
      "  FutureWarning,\n"
     ]
    },
    {
     "name": "stdout",
     "output_type": "stream",
     "text": [
      " - Vigilance: 0.65\n",
      " -- Run: 0\n"
     ]
    },
    {
     "name": "stderr",
     "output_type": "stream",
     "text": [
      "/home/peter/.pyenv/versions/env37/lib/python3.7/site-packages/sklearn/manifold/_t_sne.py:986: FutureWarning: The PCA initialization in TSNE will change to have the standard deviation of PC1 equal to 1e-4 in 1.2. This will ensure better convergence.\n",
      "  FutureWarning,\n"
     ]
    },
    {
     "name": "stdout",
     "output_type": "stream",
     "text": [
      " - Vigilance: 0.7000000000000001\n",
      " -- Run: 0\n"
     ]
    },
    {
     "name": "stderr",
     "output_type": "stream",
     "text": [
      "/home/peter/.pyenv/versions/env37/lib/python3.7/site-packages/sklearn/manifold/_t_sne.py:986: FutureWarning: The PCA initialization in TSNE will change to have the standard deviation of PC1 equal to 1e-4 in 1.2. This will ensure better convergence.\n",
      "  FutureWarning,\n"
     ]
    },
    {
     "name": "stdout",
     "output_type": "stream",
     "text": [
      " - Vigilance: 0.75\n",
      " -- Run: 0\n"
     ]
    },
    {
     "name": "stderr",
     "output_type": "stream",
     "text": [
      "/home/peter/.pyenv/versions/env37/lib/python3.7/site-packages/sklearn/manifold/_t_sne.py:986: FutureWarning: The PCA initialization in TSNE will change to have the standard deviation of PC1 equal to 1e-4 in 1.2. This will ensure better convergence.\n",
      "  FutureWarning,\n"
     ]
    },
    {
     "name": "stdout",
     "output_type": "stream",
     "text": [
      " - Vigilance: 0.8\n",
      " -- Run: 0\n"
     ]
    },
    {
     "name": "stderr",
     "output_type": "stream",
     "text": [
      "/home/peter/.pyenv/versions/env37/lib/python3.7/site-packages/sklearn/manifold/_t_sne.py:986: FutureWarning: The PCA initialization in TSNE will change to have the standard deviation of PC1 equal to 1e-4 in 1.2. This will ensure better convergence.\n",
      "  FutureWarning,\n"
     ]
    },
    {
     "name": "stdout",
     "output_type": "stream",
     "text": [
      " - Vigilance: 0.8500000000000001\n",
      " -- Run: 0\n"
     ]
    },
    {
     "name": "stderr",
     "output_type": "stream",
     "text": [
      "/home/peter/.pyenv/versions/env37/lib/python3.7/site-packages/sklearn/manifold/_t_sne.py:986: FutureWarning: The PCA initialization in TSNE will change to have the standard deviation of PC1 equal to 1e-4 in 1.2. This will ensure better convergence.\n",
      "  FutureWarning,\n"
     ]
    },
    {
     "name": "stdout",
     "output_type": "stream",
     "text": [
      " - Vigilance: 0.9\n",
      " -- Run: 0\n"
     ]
    },
    {
     "name": "stderr",
     "output_type": "stream",
     "text": [
      "/home/peter/.pyenv/versions/env37/lib/python3.7/site-packages/sklearn/manifold/_t_sne.py:986: FutureWarning: The PCA initialization in TSNE will change to have the standard deviation of PC1 equal to 1e-4 in 1.2. This will ensure better convergence.\n",
      "  FutureWarning,\n"
     ]
    },
    {
     "name": "stdout",
     "output_type": "stream",
     "text": [
      " - Vigilance: 0.9500000000000001\n",
      " -- Run: 0\n"
     ]
    },
    {
     "name": "stderr",
     "output_type": "stream",
     "text": [
      "/home/peter/.pyenv/versions/env37/lib/python3.7/site-packages/sklearn/manifold/_t_sne.py:986: FutureWarning: The PCA initialization in TSNE will change to have the standard deviation of PC1 equal to 1e-4 in 1.2. This will ensure better convergence.\n",
      "  FutureWarning,\n"
     ]
    },
    {
     "name": "stdout",
     "output_type": "stream",
     "text": [
      " - Vigilance: 1.0\n",
      " -- Run: 0\n"
     ]
    },
    {
     "name": "stderr",
     "output_type": "stream",
     "text": [
      "/home/peter/.pyenv/versions/env37/lib/python3.7/site-packages/sklearn/manifold/_t_sne.py:986: FutureWarning: The PCA initialization in TSNE will change to have the standard deviation of PC1 equal to 1e-4 in 1.2. This will ensure better convergence.\n",
      "  FutureWarning,\n"
     ]
    },
    {
     "data": {
      "text/plain": [
       "<Figure size 2000x1200 with 0 Axes>"
      ]
     },
     "metadata": {},
     "output_type": "display_data"
    }
   ],
   "source": [
    "from model import art_one\n",
    "\n",
    "art_one(forms_empty_inflections_onehot, inflections, cogids, vigilances = np.arange(0,1.05,0.05), data_plot=True)\n",
    "\n"
   ]
  },
  {
   "cell_type": "markdown",
   "id": "3cb0d6b9",
   "metadata": {},
   "source": [
    "## ART iterated, for different batch sizes"
   ]
  },
  {
   "cell_type": "code",
   "execution_count": 9,
   "id": "79bbf754",
   "metadata": {},
   "outputs": [
    {
     "name": "stdout",
     "output_type": "stream",
     "text": [
      "Batch size: 10\n",
      " - Vigilance: 0.25\n",
      " -- Run: 0\n",
      " -- Run: 1\n",
      " -- Run: 2\n",
      " -- Run: 3\n",
      " -- Run: 4\n",
      " -- Run: 5\n",
      " -- Run: 6\n",
      " -- Run: 7\n",
      " -- Run: 8\n",
      " -- Run: 9\n",
      " -- Run: 10\n",
      " -- Run: 11\n",
      " -- Run: 12\n",
      " -- Run: 13\n",
      " -- Run: 14\n",
      " -- Run: 15\n",
      " -- Run: 16\n",
      " -- Run: 17\n",
      " -- Run: 18\n",
      " -- Run: 19\n",
      " - Vigilance: 0.5\n",
      " -- Run: 0\n",
      " -- Run: 1\n",
      " -- Run: 2\n",
      " -- Run: 3\n",
      " -- Run: 4\n",
      " -- Run: 5\n",
      " -- Run: 6\n",
      " -- Run: 7\n",
      " -- Run: 8\n",
      " -- Run: 9\n",
      " -- Run: 10\n",
      " -- Run: 11\n",
      " -- Run: 12\n",
      " -- Run: 13\n",
      " -- Run: 14\n",
      " -- Run: 15\n",
      " -- Run: 16\n",
      " -- Run: 17\n",
      " -- Run: 18\n",
      " -- Run: 19\n",
      " - Vigilance: 0.75\n",
      " -- Run: 0\n",
      " -- Run: 1\n",
      " -- Run: 2\n",
      " -- Run: 3\n",
      " -- Run: 4\n",
      " -- Run: 5\n",
      " -- Run: 6\n",
      " -- Run: 7\n",
      " -- Run: 8\n",
      " -- Run: 9\n",
      " -- Run: 10\n",
      " -- Run: 11\n",
      " -- Run: 12\n",
      " -- Run: 13\n",
      " -- Run: 14\n",
      " -- Run: 15\n",
      " -- Run: 16\n",
      " -- Run: 17\n",
      " -- Run: 18\n",
      " -- Run: 19\n",
      "Plotting graphs.\n",
      "Done plotting.\n",
      "Batch size: 20\n",
      " - Vigilance: 0.25\n",
      " -- Run: 0\n",
      " -- Run: 1\n",
      " -- Run: 2\n",
      " -- Run: 3\n",
      " -- Run: 4\n",
      " -- Run: 5\n",
      " -- Run: 6\n",
      " -- Run: 7\n",
      " -- Run: 8\n",
      " -- Run: 9\n",
      " -- Run: 10\n",
      " -- Run: 11\n",
      " -- Run: 12\n",
      " -- Run: 13\n",
      " -- Run: 14\n",
      " -- Run: 15\n",
      " -- Run: 16\n",
      " -- Run: 17\n",
      " -- Run: 18\n",
      " -- Run: 19\n",
      " - Vigilance: 0.5\n",
      " -- Run: 0\n",
      " -- Run: 1\n",
      " -- Run: 2\n",
      " -- Run: 3\n",
      " -- Run: 4\n",
      " -- Run: 5\n",
      " -- Run: 6\n",
      " -- Run: 7\n",
      " -- Run: 8\n",
      " -- Run: 9\n",
      " -- Run: 10\n",
      " -- Run: 11\n",
      " -- Run: 12\n",
      " -- Run: 13\n",
      " -- Run: 14\n",
      " -- Run: 15\n",
      " -- Run: 16\n",
      " -- Run: 17\n",
      " -- Run: 18\n",
      " -- Run: 19\n",
      " - Vigilance: 0.75\n",
      " -- Run: 0\n",
      " -- Run: 1\n",
      " -- Run: 2\n",
      " -- Run: 3\n",
      " -- Run: 4\n",
      " -- Run: 5\n",
      " -- Run: 6\n",
      " -- Run: 7\n",
      " -- Run: 8\n",
      " -- Run: 9\n",
      " -- Run: 10\n",
      " -- Run: 11\n",
      " -- Run: 12\n",
      " -- Run: 13\n",
      " -- Run: 14\n",
      " -- Run: 15\n",
      " -- Run: 16\n",
      " -- Run: 17\n",
      " -- Run: 18\n",
      " -- Run: 19\n",
      "Plotting graphs.\n"
     ]
    },
    {
     "ename": "KeyboardInterrupt",
     "evalue": "",
     "output_type": "error",
     "traceback": [
      "\u001b[0;31m---------------------------------------------------------------------------\u001b[0m",
      "\u001b[0;31mKeyboardInterrupt\u001b[0m                         Traceback (most recent call last)",
      "\u001b[0;32m/tmp/ipykernel_27726/125836915.py\u001b[0m in \u001b[0;36m<module>\u001b[0;34m\u001b[0m\n\u001b[1;32m      3\u001b[0m \u001b[0;32mfor\u001b[0m \u001b[0mbs\u001b[0m \u001b[0;32min\u001b[0m \u001b[0;34m[\u001b[0m\u001b[0;36m10\u001b[0m\u001b[0;34m,\u001b[0m\u001b[0;36m20\u001b[0m\u001b[0;34m,\u001b[0m\u001b[0;36m50\u001b[0m\u001b[0;34m,\u001b[0m\u001b[0;36m100\u001b[0m\u001b[0;34m,\u001b[0m\u001b[0;36m200\u001b[0m\u001b[0;34m,\u001b[0m\u001b[0;36m500\u001b[0m\u001b[0;34m]\u001b[0m\u001b[0;34m:\u001b[0m\u001b[0;34m\u001b[0m\u001b[0;34m\u001b[0m\u001b[0m\n\u001b[1;32m      4\u001b[0m     \u001b[0mprint\u001b[0m\u001b[0;34m(\u001b[0m\u001b[0;34mf\"Batch size: {bs}\"\u001b[0m\u001b[0;34m)\u001b[0m\u001b[0;34m\u001b[0m\u001b[0;34m\u001b[0m\u001b[0m\n\u001b[0;32m----> 5\u001b[0;31m     \u001b[0mart_iterated\u001b[0m\u001b[0;34m(\u001b[0m\u001b[0mforms_empty_inflections_onehot\u001b[0m\u001b[0;34m,\u001b[0m \u001b[0mn_runs\u001b[0m\u001b[0;34m=\u001b[0m\u001b[0;36m20\u001b[0m\u001b[0;34m,\u001b[0m \u001b[0mn_timesteps\u001b[0m\u001b[0;34m=\u001b[0m\u001b[0;36m500\u001b[0m\u001b[0;34m,\u001b[0m \u001b[0mbatch_size\u001b[0m\u001b[0;34m=\u001b[0m\u001b[0mbs\u001b[0m\u001b[0;34m,\u001b[0m \u001b[0minflections_gold\u001b[0m\u001b[0;34m=\u001b[0m\u001b[0minflections\u001b[0m\u001b[0;34m,\u001b[0m \u001b[0mcogids\u001b[0m\u001b[0;34m=\u001b[0m\u001b[0mcogids\u001b[0m\u001b[0;34m,\u001b[0m \u001b[0mvigilances\u001b[0m\u001b[0;34m=\u001b[0m\u001b[0;34m[\u001b[0m\u001b[0;36m0.25\u001b[0m\u001b[0;34m,\u001b[0m \u001b[0;36m0.5\u001b[0m\u001b[0;34m,\u001b[0m \u001b[0;36m0.75\u001b[0m\u001b[0;34m]\u001b[0m \u001b[0;34m)\u001b[0m\u001b[0;34m\u001b[0m\u001b[0;34m\u001b[0m\u001b[0m\n\u001b[0m",
      "\u001b[0;32m~/git/agents-art/model.py\u001b[0m in \u001b[0;36mart_iterated\u001b[0;34m(data_onehot, n_runs, n_timesteps, batch_size, inflections_gold, cogids, vigilances, iterated, data_plot)\u001b[0m\n\u001b[1;32m     90\u001b[0m \u001b[0;34m\u001b[0m\u001b[0m\n\u001b[1;32m     91\u001b[0m         \u001b[0mdf_course_clusters\u001b[0m \u001b[0;34m=\u001b[0m \u001b[0mpd\u001b[0m\u001b[0;34m.\u001b[0m\u001b[0mDataFrame\u001b[0m\u001b[0;34m.\u001b[0m\u001b[0mfrom_records\u001b[0m\u001b[0;34m(\u001b[0m\u001b[0mrecords_course_clusters\u001b[0m\u001b[0;34m)\u001b[0m\u001b[0;34m\u001b[0m\u001b[0;34m\u001b[0m\u001b[0m\n\u001b[0;32m---> 92\u001b[0;31m         \u001b[0msns\u001b[0m\u001b[0;34m.\u001b[0m\u001b[0mlineplot\u001b[0m\u001b[0;34m(\u001b[0m\u001b[0mdata\u001b[0m\u001b[0;34m=\u001b[0m\u001b[0mdf_course_clusters\u001b[0m\u001b[0;34m,\u001b[0m \u001b[0mx\u001b[0m\u001b[0;34m=\u001b[0m\u001b[0;34m\"timestep\"\u001b[0m\u001b[0;34m,\u001b[0m \u001b[0my\u001b[0m \u001b[0;34m=\u001b[0m \u001b[0;34m\"n_forms\"\u001b[0m\u001b[0;34m,\u001b[0m \u001b[0mhue\u001b[0m\u001b[0;34m=\u001b[0m\u001b[0;34m\"metric\"\u001b[0m\u001b[0;34m,\u001b[0m \u001b[0mstyle\u001b[0m\u001b[0;34m=\u001b[0m\u001b[0;34m\"vigilance\"\u001b[0m\u001b[0;34m)\u001b[0m\u001b[0;34m\u001b[0m\u001b[0;34m\u001b[0m\u001b[0m\n\u001b[0m\u001b[1;32m     93\u001b[0m         \u001b[0mplt\u001b[0m\u001b[0;34m.\u001b[0m\u001b[0msavefig\u001b[0m\u001b[0;34m(\u001b[0m\u001b[0;34mf\"clusters-art-course-batch{batch_size}.pdf\"\u001b[0m\u001b[0;34m)\u001b[0m\u001b[0;34m\u001b[0m\u001b[0;34m\u001b[0m\u001b[0m\n\u001b[1;32m     94\u001b[0m         \u001b[0mplt\u001b[0m\u001b[0;34m.\u001b[0m\u001b[0mclf\u001b[0m\u001b[0;34m(\u001b[0m\u001b[0;34m)\u001b[0m\u001b[0;34m\u001b[0m\u001b[0;34m\u001b[0m\u001b[0m\n",
      "\u001b[0;32m~/.pyenv/versions/env37/lib/python3.7/site-packages/seaborn/_decorators.py\u001b[0m in \u001b[0;36minner_f\u001b[0;34m(*args, **kwargs)\u001b[0m\n\u001b[1;32m     44\u001b[0m             )\n\u001b[1;32m     45\u001b[0m         \u001b[0mkwargs\u001b[0m\u001b[0;34m.\u001b[0m\u001b[0mupdate\u001b[0m\u001b[0;34m(\u001b[0m\u001b[0;34m{\u001b[0m\u001b[0mk\u001b[0m\u001b[0;34m:\u001b[0m \u001b[0marg\u001b[0m \u001b[0;32mfor\u001b[0m \u001b[0mk\u001b[0m\u001b[0;34m,\u001b[0m \u001b[0marg\u001b[0m \u001b[0;32min\u001b[0m \u001b[0mzip\u001b[0m\u001b[0;34m(\u001b[0m\u001b[0msig\u001b[0m\u001b[0;34m.\u001b[0m\u001b[0mparameters\u001b[0m\u001b[0;34m,\u001b[0m \u001b[0margs\u001b[0m\u001b[0;34m)\u001b[0m\u001b[0;34m}\u001b[0m\u001b[0;34m)\u001b[0m\u001b[0;34m\u001b[0m\u001b[0;34m\u001b[0m\u001b[0m\n\u001b[0;32m---> 46\u001b[0;31m         \u001b[0;32mreturn\u001b[0m \u001b[0mf\u001b[0m\u001b[0;34m(\u001b[0m\u001b[0;34m**\u001b[0m\u001b[0mkwargs\u001b[0m\u001b[0;34m)\u001b[0m\u001b[0;34m\u001b[0m\u001b[0;34m\u001b[0m\u001b[0m\n\u001b[0m\u001b[1;32m     47\u001b[0m     \u001b[0;32mreturn\u001b[0m \u001b[0minner_f\u001b[0m\u001b[0;34m\u001b[0m\u001b[0;34m\u001b[0m\u001b[0m\n\u001b[1;32m     48\u001b[0m \u001b[0;34m\u001b[0m\u001b[0m\n",
      "\u001b[0;32m~/.pyenv/versions/env37/lib/python3.7/site-packages/seaborn/relational.py\u001b[0m in \u001b[0;36mlineplot\u001b[0;34m(x, y, hue, size, style, data, palette, hue_order, hue_norm, sizes, size_order, size_norm, dashes, markers, style_order, units, estimator, ci, n_boot, seed, sort, err_style, err_kws, legend, ax, **kwargs)\u001b[0m\n\u001b[1;32m    708\u001b[0m     \u001b[0mp\u001b[0m\u001b[0;34m.\u001b[0m\u001b[0m_attach\u001b[0m\u001b[0;34m(\u001b[0m\u001b[0max\u001b[0m\u001b[0;34m)\u001b[0m\u001b[0;34m\u001b[0m\u001b[0;34m\u001b[0m\u001b[0m\n\u001b[1;32m    709\u001b[0m \u001b[0;34m\u001b[0m\u001b[0m\n\u001b[0;32m--> 710\u001b[0;31m     \u001b[0mp\u001b[0m\u001b[0;34m.\u001b[0m\u001b[0mplot\u001b[0m\u001b[0;34m(\u001b[0m\u001b[0max\u001b[0m\u001b[0;34m,\u001b[0m \u001b[0mkwargs\u001b[0m\u001b[0;34m)\u001b[0m\u001b[0;34m\u001b[0m\u001b[0;34m\u001b[0m\u001b[0m\n\u001b[0m\u001b[1;32m    711\u001b[0m     \u001b[0;32mreturn\u001b[0m \u001b[0max\u001b[0m\u001b[0;34m\u001b[0m\u001b[0;34m\u001b[0m\u001b[0m\n\u001b[1;32m    712\u001b[0m \u001b[0;34m\u001b[0m\u001b[0m\n",
      "\u001b[0;32m~/.pyenv/versions/env37/lib/python3.7/site-packages/seaborn/relational.py\u001b[0m in \u001b[0;36mplot\u001b[0;34m(self, ax, kws)\u001b[0m\n\u001b[1;32m    497\u001b[0m                     \u001b[0merr\u001b[0m \u001b[0;34m=\u001b[0m \u001b[0;34m\"estimator must be None when specifying units\"\u001b[0m\u001b[0;34m\u001b[0m\u001b[0;34m\u001b[0m\u001b[0m\n\u001b[1;32m    498\u001b[0m                     \u001b[0;32mraise\u001b[0m \u001b[0mValueError\u001b[0m\u001b[0;34m(\u001b[0m\u001b[0merr\u001b[0m\u001b[0;34m)\u001b[0m\u001b[0;34m\u001b[0m\u001b[0;34m\u001b[0m\u001b[0m\n\u001b[0;32m--> 499\u001b[0;31m                 \u001b[0mx\u001b[0m\u001b[0;34m,\u001b[0m \u001b[0my\u001b[0m\u001b[0;34m,\u001b[0m \u001b[0my_ci\u001b[0m \u001b[0;34m=\u001b[0m \u001b[0mself\u001b[0m\u001b[0;34m.\u001b[0m\u001b[0maggregate\u001b[0m\u001b[0;34m(\u001b[0m\u001b[0my\u001b[0m\u001b[0;34m,\u001b[0m \u001b[0mx\u001b[0m\u001b[0;34m,\u001b[0m \u001b[0mu\u001b[0m\u001b[0;34m)\u001b[0m\u001b[0;34m\u001b[0m\u001b[0;34m\u001b[0m\u001b[0m\n\u001b[0m\u001b[1;32m    500\u001b[0m             \u001b[0;32melse\u001b[0m\u001b[0;34m:\u001b[0m\u001b[0;34m\u001b[0m\u001b[0;34m\u001b[0m\u001b[0m\n\u001b[1;32m    501\u001b[0m                 \u001b[0my_ci\u001b[0m \u001b[0;34m=\u001b[0m \u001b[0;32mNone\u001b[0m\u001b[0;34m\u001b[0m\u001b[0;34m\u001b[0m\u001b[0m\n",
      "\u001b[0;32m~/.pyenv/versions/env37/lib/python3.7/site-packages/seaborn/relational.py\u001b[0m in \u001b[0;36maggregate\u001b[0;34m(self, vals, grouper, units)\u001b[0m\n\u001b[1;32m    412\u001b[0m                                columns=[\"low\", \"high\"]).stack()\n\u001b[1;32m    413\u001b[0m         \u001b[0;32melse\u001b[0m\u001b[0;34m:\u001b[0m\u001b[0;34m\u001b[0m\u001b[0;34m\u001b[0m\u001b[0m\n\u001b[0;32m--> 414\u001b[0;31m             \u001b[0mcis\u001b[0m \u001b[0;34m=\u001b[0m \u001b[0mgrouped\u001b[0m\u001b[0;34m.\u001b[0m\u001b[0mapply\u001b[0m\u001b[0;34m(\u001b[0m\u001b[0mbootstrapped_cis\u001b[0m\u001b[0;34m)\u001b[0m\u001b[0;34m\u001b[0m\u001b[0;34m\u001b[0m\u001b[0m\n\u001b[0m\u001b[1;32m    415\u001b[0m \u001b[0;34m\u001b[0m\u001b[0m\n\u001b[1;32m    416\u001b[0m         \u001b[0;31m# Unpack the CIs into \"wide\" format for plotting\u001b[0m\u001b[0;34m\u001b[0m\u001b[0;34m\u001b[0m\u001b[0;34m\u001b[0m\u001b[0m\n",
      "\u001b[0;32m~/.pyenv/versions/env37/lib/python3.7/site-packages/pandas/core/groupby/generic.py\u001b[0m in \u001b[0;36mapply\u001b[0;34m(self, func, *args, **kwargs)\u001b[0m\n\u001b[1;32m    221\u001b[0m     )\n\u001b[1;32m    222\u001b[0m     \u001b[0;32mdef\u001b[0m \u001b[0mapply\u001b[0m\u001b[0;34m(\u001b[0m\u001b[0mself\u001b[0m\u001b[0;34m,\u001b[0m \u001b[0mfunc\u001b[0m\u001b[0;34m,\u001b[0m \u001b[0;34m*\u001b[0m\u001b[0margs\u001b[0m\u001b[0;34m,\u001b[0m \u001b[0;34m**\u001b[0m\u001b[0mkwargs\u001b[0m\u001b[0;34m)\u001b[0m\u001b[0;34m:\u001b[0m\u001b[0;34m\u001b[0m\u001b[0;34m\u001b[0m\u001b[0m\n\u001b[0;32m--> 223\u001b[0;31m         \u001b[0;32mreturn\u001b[0m \u001b[0msuper\u001b[0m\u001b[0;34m(\u001b[0m\u001b[0;34m)\u001b[0m\u001b[0;34m.\u001b[0m\u001b[0mapply\u001b[0m\u001b[0;34m(\u001b[0m\u001b[0mfunc\u001b[0m\u001b[0;34m,\u001b[0m \u001b[0;34m*\u001b[0m\u001b[0margs\u001b[0m\u001b[0;34m,\u001b[0m \u001b[0;34m**\u001b[0m\u001b[0mkwargs\u001b[0m\u001b[0;34m)\u001b[0m\u001b[0;34m\u001b[0m\u001b[0;34m\u001b[0m\u001b[0m\n\u001b[0m\u001b[1;32m    224\u001b[0m \u001b[0;34m\u001b[0m\u001b[0m\n\u001b[1;32m    225\u001b[0m     \u001b[0;34m@\u001b[0m\u001b[0mdoc\u001b[0m\u001b[0;34m(\u001b[0m\u001b[0m_agg_template\u001b[0m\u001b[0;34m,\u001b[0m \u001b[0mexamples\u001b[0m\u001b[0;34m=\u001b[0m\u001b[0m_agg_examples_doc\u001b[0m\u001b[0;34m,\u001b[0m \u001b[0mklass\u001b[0m\u001b[0;34m=\u001b[0m\u001b[0;34m\"Series\"\u001b[0m\u001b[0;34m)\u001b[0m\u001b[0;34m\u001b[0m\u001b[0;34m\u001b[0m\u001b[0m\n",
      "\u001b[0;32m~/.pyenv/versions/env37/lib/python3.7/site-packages/pandas/core/groupby/groupby.py\u001b[0m in \u001b[0;36mapply\u001b[0;34m(self, func, *args, **kwargs)\u001b[0m\n\u001b[1;32m   1273\u001b[0m         \u001b[0;32mwith\u001b[0m \u001b[0moption_context\u001b[0m\u001b[0;34m(\u001b[0m\u001b[0;34m\"mode.chained_assignment\"\u001b[0m\u001b[0;34m,\u001b[0m \u001b[0;32mNone\u001b[0m\u001b[0;34m)\u001b[0m\u001b[0;34m:\u001b[0m\u001b[0;34m\u001b[0m\u001b[0;34m\u001b[0m\u001b[0m\n\u001b[1;32m   1274\u001b[0m             \u001b[0;32mtry\u001b[0m\u001b[0;34m:\u001b[0m\u001b[0;34m\u001b[0m\u001b[0;34m\u001b[0m\u001b[0m\n\u001b[0;32m-> 1275\u001b[0;31m                 \u001b[0mresult\u001b[0m \u001b[0;34m=\u001b[0m \u001b[0mself\u001b[0m\u001b[0;34m.\u001b[0m\u001b[0m_python_apply_general\u001b[0m\u001b[0;34m(\u001b[0m\u001b[0mf\u001b[0m\u001b[0;34m,\u001b[0m \u001b[0mself\u001b[0m\u001b[0;34m.\u001b[0m\u001b[0m_selected_obj\u001b[0m\u001b[0;34m)\u001b[0m\u001b[0;34m\u001b[0m\u001b[0;34m\u001b[0m\u001b[0m\n\u001b[0m\u001b[1;32m   1276\u001b[0m             \u001b[0;32mexcept\u001b[0m \u001b[0mTypeError\u001b[0m\u001b[0;34m:\u001b[0m\u001b[0;34m\u001b[0m\u001b[0;34m\u001b[0m\u001b[0m\n\u001b[1;32m   1277\u001b[0m                 \u001b[0;31m# gh-20949\u001b[0m\u001b[0;34m\u001b[0m\u001b[0;34m\u001b[0m\u001b[0;34m\u001b[0m\u001b[0m\n",
      "\u001b[0;32m~/.pyenv/versions/env37/lib/python3.7/site-packages/pandas/core/groupby/groupby.py\u001b[0m in \u001b[0;36m_python_apply_general\u001b[0;34m(self, f, data)\u001b[0m\n\u001b[1;32m   1307\u001b[0m             \u001b[0mdata\u001b[0m \u001b[0mafter\u001b[0m \u001b[0mapplying\u001b[0m \u001b[0mf\u001b[0m\u001b[0;34m\u001b[0m\u001b[0;34m\u001b[0m\u001b[0m\n\u001b[1;32m   1308\u001b[0m         \"\"\"\n\u001b[0;32m-> 1309\u001b[0;31m         \u001b[0mkeys\u001b[0m\u001b[0;34m,\u001b[0m \u001b[0mvalues\u001b[0m\u001b[0;34m,\u001b[0m \u001b[0mmutated\u001b[0m \u001b[0;34m=\u001b[0m \u001b[0mself\u001b[0m\u001b[0;34m.\u001b[0m\u001b[0mgrouper\u001b[0m\u001b[0;34m.\u001b[0m\u001b[0mapply\u001b[0m\u001b[0;34m(\u001b[0m\u001b[0mf\u001b[0m\u001b[0;34m,\u001b[0m \u001b[0mdata\u001b[0m\u001b[0;34m,\u001b[0m \u001b[0mself\u001b[0m\u001b[0;34m.\u001b[0m\u001b[0maxis\u001b[0m\u001b[0;34m)\u001b[0m\u001b[0;34m\u001b[0m\u001b[0;34m\u001b[0m\u001b[0m\n\u001b[0m\u001b[1;32m   1310\u001b[0m \u001b[0;34m\u001b[0m\u001b[0m\n\u001b[1;32m   1311\u001b[0m         return self._wrap_applied_output(\n",
      "\u001b[0;32m~/.pyenv/versions/env37/lib/python3.7/site-packages/pandas/core/groupby/ops.py\u001b[0m in \u001b[0;36mapply\u001b[0;34m(self, f, data, axis)\u001b[0m\n\u001b[1;32m    850\u001b[0m             \u001b[0;31m# group might be modified\u001b[0m\u001b[0;34m\u001b[0m\u001b[0;34m\u001b[0m\u001b[0;34m\u001b[0m\u001b[0m\n\u001b[1;32m    851\u001b[0m             \u001b[0mgroup_axes\u001b[0m \u001b[0;34m=\u001b[0m \u001b[0mgroup\u001b[0m\u001b[0;34m.\u001b[0m\u001b[0maxes\u001b[0m\u001b[0;34m\u001b[0m\u001b[0;34m\u001b[0m\u001b[0m\n\u001b[0;32m--> 852\u001b[0;31m             \u001b[0mres\u001b[0m \u001b[0;34m=\u001b[0m \u001b[0mf\u001b[0m\u001b[0;34m(\u001b[0m\u001b[0mgroup\u001b[0m\u001b[0;34m)\u001b[0m\u001b[0;34m\u001b[0m\u001b[0;34m\u001b[0m\u001b[0m\n\u001b[0m\u001b[1;32m    853\u001b[0m             \u001b[0;32mif\u001b[0m \u001b[0;32mnot\u001b[0m \u001b[0m_is_indexed_like\u001b[0m\u001b[0;34m(\u001b[0m\u001b[0mres\u001b[0m\u001b[0;34m,\u001b[0m \u001b[0mgroup_axes\u001b[0m\u001b[0;34m,\u001b[0m \u001b[0maxis\u001b[0m\u001b[0;34m)\u001b[0m\u001b[0;34m:\u001b[0m\u001b[0;34m\u001b[0m\u001b[0;34m\u001b[0m\u001b[0m\n\u001b[1;32m    854\u001b[0m                 \u001b[0mmutated\u001b[0m \u001b[0;34m=\u001b[0m \u001b[0;32mTrue\u001b[0m\u001b[0;34m\u001b[0m\u001b[0;34m\u001b[0m\u001b[0m\n",
      "\u001b[0;32m~/.pyenv/versions/env37/lib/python3.7/site-packages/seaborn/relational.py\u001b[0m in \u001b[0;36mbootstrapped_cis\u001b[0;34m(vals)\u001b[0m\n\u001b[1;32m    393\u001b[0m                 \u001b[0;32mreturn\u001b[0m \u001b[0mnull_ci\u001b[0m\u001b[0;34m\u001b[0m\u001b[0;34m\u001b[0m\u001b[0m\n\u001b[1;32m    394\u001b[0m \u001b[0;34m\u001b[0m\u001b[0m\n\u001b[0;32m--> 395\u001b[0;31m             \u001b[0mboots\u001b[0m \u001b[0;34m=\u001b[0m \u001b[0mbootstrap\u001b[0m\u001b[0;34m(\u001b[0m\u001b[0mvals\u001b[0m\u001b[0;34m,\u001b[0m \u001b[0mfunc\u001b[0m\u001b[0;34m=\u001b[0m\u001b[0mfunc\u001b[0m\u001b[0;34m,\u001b[0m \u001b[0mn_boot\u001b[0m\u001b[0;34m=\u001b[0m\u001b[0mn_boot\u001b[0m\u001b[0;34m,\u001b[0m \u001b[0mseed\u001b[0m\u001b[0;34m=\u001b[0m\u001b[0mseed\u001b[0m\u001b[0;34m)\u001b[0m\u001b[0;34m\u001b[0m\u001b[0;34m\u001b[0m\u001b[0m\n\u001b[0m\u001b[1;32m    396\u001b[0m             \u001b[0mcis\u001b[0m \u001b[0;34m=\u001b[0m \u001b[0mci_func\u001b[0m\u001b[0;34m(\u001b[0m\u001b[0mboots\u001b[0m\u001b[0;34m,\u001b[0m \u001b[0mci\u001b[0m\u001b[0;34m)\u001b[0m\u001b[0;34m\u001b[0m\u001b[0;34m\u001b[0m\u001b[0m\n\u001b[1;32m    397\u001b[0m             \u001b[0;32mreturn\u001b[0m \u001b[0mpd\u001b[0m\u001b[0;34m.\u001b[0m\u001b[0mSeries\u001b[0m\u001b[0;34m(\u001b[0m\u001b[0mcis\u001b[0m\u001b[0;34m,\u001b[0m \u001b[0;34m[\u001b[0m\u001b[0;34m\"low\"\u001b[0m\u001b[0;34m,\u001b[0m \u001b[0;34m\"high\"\u001b[0m\u001b[0;34m]\u001b[0m\u001b[0;34m)\u001b[0m\u001b[0;34m\u001b[0m\u001b[0;34m\u001b[0m\u001b[0m\n",
      "\u001b[0;32m~/.pyenv/versions/env37/lib/python3.7/site-packages/seaborn/algorithms.py\u001b[0m in \u001b[0;36mbootstrap\u001b[0;34m(*args, **kwargs)\u001b[0m\n\u001b[1;32m     83\u001b[0m         \u001b[0mresampler\u001b[0m \u001b[0;34m=\u001b[0m \u001b[0mintegers\u001b[0m\u001b[0;34m(\u001b[0m\u001b[0;36m0\u001b[0m\u001b[0;34m,\u001b[0m \u001b[0mn\u001b[0m\u001b[0;34m,\u001b[0m \u001b[0mn\u001b[0m\u001b[0;34m,\u001b[0m \u001b[0mdtype\u001b[0m\u001b[0;34m=\u001b[0m\u001b[0mnp\u001b[0m\u001b[0;34m.\u001b[0m\u001b[0mintp\u001b[0m\u001b[0;34m)\u001b[0m  \u001b[0;31m# intp is indexing dtype\u001b[0m\u001b[0;34m\u001b[0m\u001b[0;34m\u001b[0m\u001b[0m\n\u001b[1;32m     84\u001b[0m         \u001b[0msample\u001b[0m \u001b[0;34m=\u001b[0m \u001b[0;34m[\u001b[0m\u001b[0ma\u001b[0m\u001b[0;34m.\u001b[0m\u001b[0mtake\u001b[0m\u001b[0;34m(\u001b[0m\u001b[0mresampler\u001b[0m\u001b[0;34m,\u001b[0m \u001b[0maxis\u001b[0m\u001b[0;34m=\u001b[0m\u001b[0;36m0\u001b[0m\u001b[0;34m)\u001b[0m \u001b[0;32mfor\u001b[0m \u001b[0ma\u001b[0m \u001b[0;32min\u001b[0m \u001b[0margs\u001b[0m\u001b[0;34m]\u001b[0m\u001b[0;34m\u001b[0m\u001b[0;34m\u001b[0m\u001b[0m\n\u001b[0;32m---> 85\u001b[0;31m         \u001b[0mboot_dist\u001b[0m\u001b[0;34m.\u001b[0m\u001b[0mappend\u001b[0m\u001b[0;34m(\u001b[0m\u001b[0mf\u001b[0m\u001b[0;34m(\u001b[0m\u001b[0;34m*\u001b[0m\u001b[0msample\u001b[0m\u001b[0;34m,\u001b[0m \u001b[0;34m**\u001b[0m\u001b[0mfunc_kwargs\u001b[0m\u001b[0;34m)\u001b[0m\u001b[0;34m)\u001b[0m\u001b[0;34m\u001b[0m\u001b[0;34m\u001b[0m\u001b[0m\n\u001b[0m\u001b[1;32m     86\u001b[0m     \u001b[0;32mreturn\u001b[0m \u001b[0mnp\u001b[0m\u001b[0;34m.\u001b[0m\u001b[0marray\u001b[0m\u001b[0;34m(\u001b[0m\u001b[0mboot_dist\u001b[0m\u001b[0;34m)\u001b[0m\u001b[0;34m\u001b[0m\u001b[0;34m\u001b[0m\u001b[0m\n\u001b[1;32m     87\u001b[0m \u001b[0;34m\u001b[0m\u001b[0m\n",
      "\u001b[0;32m~/.pyenv/versions/env37/lib/python3.7/site-packages/seaborn/algorithms.py\u001b[0m in \u001b[0;36mf\u001b[0;34m(x)\u001b[0m\n\u001b[1;32m     64\u001b[0m     \u001b[0;32mif\u001b[0m \u001b[0misinstance\u001b[0m\u001b[0;34m(\u001b[0m\u001b[0mfunc\u001b[0m\u001b[0;34m,\u001b[0m \u001b[0mstr\u001b[0m\u001b[0;34m)\u001b[0m\u001b[0;34m:\u001b[0m\u001b[0;34m\u001b[0m\u001b[0;34m\u001b[0m\u001b[0m\n\u001b[1;32m     65\u001b[0m         \u001b[0;32mdef\u001b[0m \u001b[0mf\u001b[0m\u001b[0;34m(\u001b[0m\u001b[0mx\u001b[0m\u001b[0;34m)\u001b[0m\u001b[0;34m:\u001b[0m\u001b[0;34m\u001b[0m\u001b[0;34m\u001b[0m\u001b[0m\n\u001b[0;32m---> 66\u001b[0;31m             \u001b[0;32mreturn\u001b[0m \u001b[0mgetattr\u001b[0m\u001b[0;34m(\u001b[0m\u001b[0mx\u001b[0m\u001b[0;34m,\u001b[0m \u001b[0mfunc\u001b[0m\u001b[0;34m)\u001b[0m\u001b[0;34m(\u001b[0m\u001b[0;34m)\u001b[0m\u001b[0;34m\u001b[0m\u001b[0;34m\u001b[0m\u001b[0m\n\u001b[0m\u001b[1;32m     67\u001b[0m     \u001b[0;32melse\u001b[0m\u001b[0;34m:\u001b[0m\u001b[0;34m\u001b[0m\u001b[0;34m\u001b[0m\u001b[0m\n\u001b[1;32m     68\u001b[0m         \u001b[0mf\u001b[0m \u001b[0;34m=\u001b[0m \u001b[0mfunc\u001b[0m\u001b[0;34m\u001b[0m\u001b[0;34m\u001b[0m\u001b[0m\n",
      "\u001b[0;32m~/.pyenv/versions/env37/lib/python3.7/site-packages/numpy/core/_methods.py\u001b[0m in \u001b[0;36m_mean\u001b[0;34m(a, axis, dtype, out, keepdims, where)\u001b[0m\n\u001b[1;32m    177\u001b[0m             \u001b[0mis_float16_result\u001b[0m \u001b[0;34m=\u001b[0m \u001b[0;32mTrue\u001b[0m\u001b[0;34m\u001b[0m\u001b[0;34m\u001b[0m\u001b[0m\n\u001b[1;32m    178\u001b[0m \u001b[0;34m\u001b[0m\u001b[0m\n\u001b[0;32m--> 179\u001b[0;31m     \u001b[0mret\u001b[0m \u001b[0;34m=\u001b[0m \u001b[0mumr_sum\u001b[0m\u001b[0;34m(\u001b[0m\u001b[0marr\u001b[0m\u001b[0;34m,\u001b[0m \u001b[0maxis\u001b[0m\u001b[0;34m,\u001b[0m \u001b[0mdtype\u001b[0m\u001b[0;34m,\u001b[0m \u001b[0mout\u001b[0m\u001b[0;34m,\u001b[0m \u001b[0mkeepdims\u001b[0m\u001b[0;34m,\u001b[0m \u001b[0mwhere\u001b[0m\u001b[0;34m=\u001b[0m\u001b[0mwhere\u001b[0m\u001b[0;34m)\u001b[0m\u001b[0;34m\u001b[0m\u001b[0;34m\u001b[0m\u001b[0m\n\u001b[0m\u001b[1;32m    180\u001b[0m     \u001b[0;32mif\u001b[0m \u001b[0misinstance\u001b[0m\u001b[0;34m(\u001b[0m\u001b[0mret\u001b[0m\u001b[0;34m,\u001b[0m \u001b[0mmu\u001b[0m\u001b[0;34m.\u001b[0m\u001b[0mndarray\u001b[0m\u001b[0;34m)\u001b[0m\u001b[0;34m:\u001b[0m\u001b[0;34m\u001b[0m\u001b[0;34m\u001b[0m\u001b[0m\n\u001b[1;32m    181\u001b[0m         ret = um.true_divide(\n",
      "\u001b[0;31mKeyboardInterrupt\u001b[0m: "
     ]
    },
    {
     "data": {
      "image/png": "[encoded data removed]",
      "text/plain": [
       "<Figure size 2000x1200 with 1 Axes>"
      ]
     },
     "metadata": {
      "needs_background": "light"
     },
     "output_type": "display_data"
    }
   ],
   "source": [
    "from model import art_iterated\n",
    "\n",
    "for bs in [10,20,50,100,200,500]:\n",
    "    print(f\"Batch size: {bs}\")\n",
    "    art_iterated(forms_empty_inflections_onehot, n_runs=20, n_timesteps=500, batch_size=bs, inflections_gold=inflections, cogids=cogids, vigilances=[0.25, 0.5, 0.75] )\n"
   ]
  },
  {
   "cell_type": "code",
   "execution_count": null,
   "id": "39ff89c6",
   "metadata": {},
   "outputs": [],
   "source": [
    "# TODO:\n",
    "# Create iterated-learnnign() method, with repeated ART\n",
    "# Evaluate generalization parameter\n",
    "# Evaluated clustering using B-Cubed, or method corresponding to sklearn clustering section.Evaluation per inflection class\n",
    "# Multiple runs, statistics"
   ]
  },
  {
   "cell_type": "code",
   "execution_count": null,
   "id": "8952c74d",
   "metadata": {},
   "outputs": [],
   "source": [
    "## Iff Language_of_the_etymon is Latin, it has inflection classes\n",
    "# print(cognates_df[~cognates_df[\"Latin_Conjugation\"].isnull()][\"Language_of_the_etymon\"].unique()) # only if\n",
    "# print(cognates_df[cognates_df[\"Latin_Conjugation\"].isnull()][\"Language_of_the_etymon\"].unique()) # if\n",
    "\n",
    "## Get lemma for every form in cognateset id list\n",
    "#cognates_df_lookup = cognates_df.set_index(\"ID\")\n",
    "#forms_df[\"inflection_classes\"] = forms_df[\"Cognateset_ID\"].apply(lambda cids: [cognates_df_lookup.loc[cid][\"Latin_Conjugation\"] for cid in cids])"
   ]
  }
 ],
 "metadata": {
  "kernelspec": {
   "display_name": "env37",
   "language": "python",
   "name": "env37"
  },
  "language_info": {
   "codemirror_mode": {
    "name": "ipython",
    "version": 3
   },
   "file_extension": ".py",
   "mimetype": "text/x-python",
   "name": "python",
   "nbconvert_exporter": "python",
   "pygments_lexer": "ipython3",
   "version": "3.7.12"
  }
 },
 "nbformat": 4,
 "nbformat_minor": 5
}
