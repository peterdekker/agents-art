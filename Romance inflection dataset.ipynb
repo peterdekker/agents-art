{
 "cells": [
  {
   "cell_type": "markdown",
   "id": "53470f8c",
   "metadata": {},
   "source": [
    "## Load data"
   ]
  },
  {
   "cell_type": "code",
   "execution_count": null,
   "id": "95d38366",
   "metadata": {},
   "outputs": [],
   "source": [
    "import data\n",
    "\n",
    "forms_df,cognates_df,lects_df = data.load_romance_dataset()\n",
    "display(forms_df)\n",
    "\n",
    "len(forms_df[\"Language_ID\"].unique())\n"
   ]
  },
  {
   "cell_type": "markdown",
   "id": "3423188f",
   "metadata": {},
   "source": [
    "## Filter data"
   ]
  },
  {
   "cell_type": "code",
   "execution_count": null,
   "id": "b9a31781",
   "metadata": {},
   "outputs": [],
   "source": [
    "forms_df_1cognate = data.filter_romance_empty_multicog(forms_df)\n",
    "display(forms_df_1cognate)"
   ]
  },
  {
   "cell_type": "markdown",
   "id": "2d2e2789",
   "metadata": {},
   "source": [
    "## Filter on Latin inflection classes"
   ]
  },
  {
   "cell_type": "code",
   "execution_count": null,
   "id": "f13cb5c1",
   "metadata": {},
   "outputs": [],
   "source": [
    "latin_conjugation_df = data.filter_romance_inflections(forms_df_1cognate, cognates_df)\n",
    "print(len(latin_conjugation_df))\n",
    "grouped_by_lang = latin_conjugation_df.groupby(\"Language_ID\").count().sort_values(by=\"ID_x\", ascending=False).head(10)\n",
    "display(grouped_by_lang)\n",
    "#grouped_by_lang[\"Form\"].to_csv(\"langs.tex\", sep=\"&\", line_terminator = \"\\\\\\\\\\n\")\n"
   ]
  },
  {
   "cell_type": "markdown",
   "id": "c0cf3da8",
   "metadata": {},
   "source": [
    "## Show type and token frequency of inflection classes for French"
   ]
  },
  {
   "cell_type": "code",
   "execution_count": null,
   "id": "330770f8",
   "metadata": {},
   "outputs": [],
   "source": [
    "import pandas as pd\n",
    "french_df = latin_conjugation_df[latin_conjugation_df[\"Language_ID\"]==\"French_Modern_Standard\"]\n",
    "print(\"Token count\")\n",
    "display(french_df.groupby(\"Latin_Conjugation\").count()[\"Form\"])\n",
    "\n",
    "print(\"Type count\")\n",
    "display(french_df.drop_duplicates(subset=\"Cognateset_ID_first\").groupby(\"Latin_Conjugation\").count()[\"Form\"])"
   ]
  },
  {
   "cell_type": "markdown",
   "id": "272f58b7",
   "metadata": {},
   "source": [
    "## Create dataset per language"
   ]
  },
  {
   "cell_type": "code",
   "execution_count": null,
   "id": "fd899966",
   "metadata": {},
   "outputs": [],
   "source": [
    "import evaluation\n",
    "import numpy as np\n",
    "\n",
    "forms_onehot, inflections_onehot, forms, inflections, cogids = data.create_language_dataset(latin_conjugation_df, \"French_Modern_Standard\", empty_symbol=True)\n",
    "forms_inflections_onehot = np.concatenate((forms_onehot, inflections_onehot), axis=1)\n",
    "\n",
    "inflections_empty = np.zeros(inflections_onehot.shape)\n",
    "forms_empty_inflections_onehot = np.concatenate((forms_onehot, inflections_empty), axis=1)\n",
    "\n"
   ]
  },
  {
   "cell_type": "markdown",
   "id": "cfb3f39b",
   "metadata": {},
   "source": [
    "## Plot forms without inflection class"
   ]
  },
  {
   "cell_type": "code",
   "execution_count": null,
   "id": "206d3e7e",
   "metadata": {},
   "outputs": [],
   "source": [
    "score = evaluation.plot_data(forms_empty_inflections_onehot, labels=None, clusters=inflections, micro_clusters=cogids, file_label=\"data\")\n",
    "print (f\"Silhouette score: {score}\")"
   ]
  },
  {
   "cell_type": "markdown",
   "id": "aec5d494",
   "metadata": {},
   "source": [
    "## Plot forms with inflection class"
   ]
  },
  {
   "cell_type": "code",
   "execution_count": null,
   "id": "af606f80",
   "metadata": {},
   "outputs": [],
   "source": [
    "score = evaluation.plot_data(forms_inflections_onehot, labels=None, clusters=inflections, micro_clusters=cogids, file_label=\"data-inflections\")\n",
    "print (f\"Silhouette score: {score}\")"
   ]
  },
  {
   "cell_type": "markdown",
   "id": "cc679dcb",
   "metadata": {},
   "source": [
    "## ART 1 run"
   ]
  },
  {
   "cell_type": "code",
   "execution_count": null,
   "id": "50c7b691",
   "metadata": {},
   "outputs": [],
   "source": [
    "from conf import ART_VIGILANCE, ART_LEARNING_RATE, INFLECTION_CLASSES, N_INFLECTION_CLASSES\n",
    "from neupy.algorithms import ART1\n",
    "from sklearn.metrics import silhouette_score, rand_score, adjusted_rand_score\n",
    "import numpy as np\n",
    "import seaborn as sns\n",
    "import matplotlib.pyplot as plt\n",
    "\n",
    "import data\n",
    "\n",
    "\n",
    "\n",
    "def art_one(data_onehot, inflections_gold, cogids, vigilances=[ART_VIGILANCE], data_plot=False):\n",
    "    art_iterated(data_onehot, n_runs=1, n_timesteps=1, batch_size=None, inflections_gold=inflections_gold, cogids=cogids, vigilances=vigilances, iterated=False, data_plot=data_plot)\n",
    "\n",
    "def art_iterated(data_onehot, n_runs, n_timesteps, batch_size, inflections_gold, cogids, vigilances=[ART_VIGILANCE], iterated=True, data_plot=False):\n",
    "    inflections_gold = np.array(inflections_gold)\n",
    "    if cogids is not None:\n",
    "        cogids = np.array(cogids)\n",
    "    records_end_scores = []\n",
    "    records_end_clusters = []\n",
    "    records_course_scores = []\n",
    "    records_course_clusters = []\n",
    "    for vig in vigilances:\n",
    "        print(f\" - Vigilance: {vig}\")\n",
    "        for r in range(n_runs):\n",
    "            print(f\" -- Run: {r}\")\n",
    "            # Initialize original data for new run\n",
    "            input_next_gen = data_onehot.copy()\n",
    "            for i in range(n_timesteps):\n",
    "                if iterated:\n",
    "                    batch = np.random.choice(len(input_next_gen), batch_size, replace=False)\n",
    "                else:\n",
    "                    # Use whole dataset\n",
    "                    batch = np.arange(len(input_next_gen))\n",
    "\n",
    "                artnet = ART1(\n",
    "                    step=ART_LEARNING_RATE,\n",
    "                    rho=vig,\n",
    "                    n_clusters=N_INFLECTION_CLASSES,\n",
    "                )\n",
    "                clusters_art = artnet.predict(input_next_gen[batch])\n",
    "\n",
    "                # Calculate scores\n",
    "                silhouette = silhouette_score(X=data_onehot[batch], labels=clusters_art, metric=\"hamming\")\n",
    "                rand = rand_score(inflections_gold[batch], clusters_art)\n",
    "                adj_rand = adjusted_rand_score(inflections_gold[batch], clusters_art)\n",
    "                cluster_sizes = np.bincount(np.array(clusters_art,dtype=int))\n",
    "                min_cluster_size = np.min(cluster_sizes)\n",
    "                max_cluster_size = np.max(cluster_sizes)\n",
    "\n",
    "                if iterated:\n",
    "                    # Transfer information to next generation\n",
    "                    clusters_art_onehot, _ = data.create_onehot_inflections(clusters_art)\n",
    "                    # Replace last columns, represeting inflection class, by one-hot vector of inferred inflection classes\n",
    "                    input_next_gen[batch,-N_INFLECTION_CLASSES:] = clusters_art_onehot\n",
    "                    records_course_scores.append({\"run\": r, \"timestep\": i, \"vigilance\": vig, \"metric\": \"silhouette\", \"score\": silhouette})\n",
    "                    #records_course_scores.append({\"run\": r, \"timestep\": i, \"vigilance\": vig, \"metric\": \"rand\", \"score\": rand})\n",
    "                    records_course_scores.append({\"run\": r, \"timestep\": i, \"vigilance\": vig, \"metric\": \"adj_rand\", \"score\": adj_rand})\n",
    "                    records_course_clusters.append({\"run\": r, \"timestep\": i, \"vigilance\": vig, \"metric\": \"min_cluster_size\", \"n_forms\": min_cluster_size})\n",
    "                    records_course_clusters.append({\"run\": r, \"timestep\": i, \"vigilance\": vig, \"metric\": \"max_cluster_size\", \"n_forms\": max_cluster_size})\n",
    "            if data_plot:\n",
    "                evaluation.plot_data(data_onehot[batch], labels=None, clusters=clusters_art, micro_clusters=cogids[batch], file_label=f\"data-art-{n_timesteps}-end-vig{vig}\")\n",
    "            if not iterated:\n",
    "                records_end_scores.append({\"vigilance\": vig, \"metric\": \"silhouette\", \"score\": silhouette})\n",
    "                records_end_scores.append({\"vigilance\": vig, \"metric\": \"rand\", \"score\": rand})\n",
    "                records_end_scores.append({\"vigilance\": vig, \"metric\": \"adj_rand\", \"score\": adj_rand})\n",
    "                records_end_clusters.append({\"vigilance\": vig, \"metric\": \"min_cluster_size\", \"n_forms\": min_cluster_size})\n",
    "                records_end_clusters.append({\"vigilance\": vig, \"metric\": \"max_cluster_size\", \"n_forms\": max_cluster_size})\n",
    "    # Plot results\n",
    "    if not iterated:\n",
    "        df_end_scores = pd.DataFrame.from_records(records_end_scores)\n",
    "        df_end_scores.pivot(index=\"vigilance\", columns=\"metric\", values=\"score\").to_csv(\"scores-art-end.tex\", sep=\"&\", line_terminator = \"\\\\\\\\\\n\")\n",
    "        sns.lineplot(data=df_end_scores, x=\"vigilance\", y = \"score\", hue=\"metric\")\n",
    "        plt.savefig(f\"scores-art-end.pdf\")\n",
    "        plt.clf()\n",
    "        \n",
    "        df_end_clusters = pd.DataFrame.from_records(records_end_clusters)\n",
    "        df_end_clusters.pivot(index=\"vigilance\", columns=\"metric\", values=\"n_forms\").to_csv(\"clusters-art-end.tex\", sep=\"&\", line_terminator = \"\\\\\\\\\\n\")\n",
    "        sns.lineplot(data=df_end_clusters, x=\"vigilance\", y = \"n_forms\", hue=\"metric\")\n",
    "        plt.savefig(f\"clusters-art-end.pdf\")\n",
    "        plt.clf()\n",
    "    if iterated:\n",
    "        print(\"Plotting graphs.\")\n",
    "        df_course_scores = pd.DataFrame.from_records(records_course_scores)\n",
    "        sns.lineplot(data=df_course_scores, x=\"timestep\", y = \"score\", hue=\"metric\", style=\"vigilance\")\n",
    "        plt.savefig(f\"scores-art-course-batch{batch_size}.pdf\")\n",
    "        plt.clf()\n",
    "        \n",
    "        df_course_clusters = pd.DataFrame.from_records(records_course_clusters)\n",
    "        sns.lineplot(data=df_course_clusters, x=\"timestep\", y = \"n_forms\", hue=\"metric\", style=\"vigilance\")\n",
    "        plt.savefig(f\"clusters-art-course-batch{batch_size}.pdf\")\n",
    "        plt.clf()\n",
    "        print(\"Done plotting.\")\n",
    "\n",
    "art_one(forms_empty_inflections_onehot, inflections, cogids, vigilances = np.arange(0,1.05,0.05), data_plot=True)\n",
    "\n"
   ]
  },
  {
   "cell_type": "markdown",
   "id": "3cb0d6b9",
   "metadata": {},
   "source": [
    "## ART iterated, for different batch sizes"
   ]
  },
  {
   "cell_type": "code",
   "execution_count": null,
   "id": "79bbf754",
   "metadata": {},
   "outputs": [],
   "source": [
    "for bs in [10,20,50,100,200,500]:\n",
    "    print(f\"Batch size: {bs}\")\n",
    "    art_iterated(forms_empty_inflections_onehot, n_runs=20, n_timesteps=500, batch_size=bs, inflections_gold=inflections, cogids=cogids, vigilances=[0.25, 0.5, 0.75] )\n"
   ]
  },
  {
   "cell_type": "code",
   "execution_count": null,
   "id": "39ff89c6",
   "metadata": {},
   "outputs": [],
   "source": [
    "# TODO:\n",
    "# Create iterated-learnnign() method, with repeated ART\n",
    "# Evaluate generalization parameter\n",
    "# Evaluated clustering using B-Cubed, or method corresponding to sklearn clustering section.Evaluation per inflection class\n",
    "# Multiple runs, statistics"
   ]
  },
  {
   "cell_type": "code",
   "execution_count": null,
   "id": "8952c74d",
   "metadata": {},
   "outputs": [],
   "source": [
    "## Iff Language_of_the_etymon is Latin, it has inflection classes\n",
    "# print(cognates_df[~cognates_df[\"Latin_Conjugation\"].isnull()][\"Language_of_the_etymon\"].unique()) # only if\n",
    "# print(cognates_df[cognates_df[\"Latin_Conjugation\"].isnull()][\"Language_of_the_etymon\"].unique()) # if\n",
    "\n",
    "## Get lemma for every form in cognateset id list\n",
    "#cognates_df_lookup = cognates_df.set_index(\"ID\")\n",
    "#forms_df[\"inflection_classes\"] = forms_df[\"Cognateset_ID\"].apply(lambda cids: [cognates_df_lookup.loc[cid][\"Latin_Conjugation\"] for cid in cids])"
   ]
  }
 ],
 "metadata": {
  "kernelspec": {
   "display_name": "env37",
   "language": "python",
   "name": "env37"
  },
  "language_info": {
   "codemirror_mode": {
    "name": "ipython",
    "version": 3
   },
   "file_extension": ".py",
   "mimetype": "text/x-python",
   "name": "python",
   "nbconvert_exporter": "python",
   "pygments_lexer": "ipython3",
   "version": "3.7.12"
  }
 },
 "nbformat": 4,
 "nbformat_minor": 5
}
