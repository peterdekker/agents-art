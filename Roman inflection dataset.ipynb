{
 "cells": [
  {
   "cell_type": "code",
   "execution_count": 1,
   "id": "95d38366",
   "metadata": {},
   "outputs": [],
   "source": [
    "from pycldf.dataset import Dataset\n",
    "import os\n",
    "import pathlib\n",
    "import requests\n",
    "import shutil\n",
    "\n",
    "DATA_ARCHIVE_PATH = \"Romance_Verbal_Inflection_Dataset-v2.0.4.tar.gz\"\n",
    "DATA_ARCHIVE_URL = \"https://gitlab.com/sbeniamine/Romance_Verbal_Inflection_Dataset/-/archive/v2.0.4/Romance_Verbal_Inflection_Dataset-v2.0.4.tar.gz\"\n",
    "DATA_PATH = os.path.join(currentdir, \"Romance_Verbal_Inflection_Dataset-v2.0.4\") # Directory after unpacking archive\n",
    "METADATA_PATH = os.path.join(DATA_PATH, \"cldf/cldf-metadata.json\")\n",
    "\n",
    "def download_if_needed(archive_path, archive_url, file_path, label):\n",
    "    if not os.path.exists(file_path):\n",
    "        # Create parent dirs\n",
    "        #p = pathlib.Path(file_path)\n",
    "        #p.parent.mkdir(parents=True, exist_ok=True)\n",
    "        with open(archive_path, 'wb') as f:\n",
    "            print(f\"Downloading {label} from {archive_url}\")\n",
    "            try:\n",
    "                r = requests.get(archive_url, allow_redirects=True)\n",
    "            except requests.exceptions.RequestException as e:  # This is the correct syntax\n",
    "                raise SystemExit(e)\n",
    "            # Write downloaded content to file\n",
    "            f.write(r.content)\n",
    "            if archive_path.endswith(\".tar.gz\"):\n",
    "                print(\"Unpacking archive.\")\n",
    "                shutil.unpack_archive(archive_path, currentdir)\n",
    "\n",
    "\n",
    "def load_romance_dataset():\n",
    "    download_if_needed(DATA_ARCHIVE_PATH, DATA_ARCHIVE_URL, DATA_PATH, \"romance\")\n",
    "    print(\"Loading data...\")\n",
    "    dataset = Dataset.from_metadata(METADATA_PATH)\n",
    "    data_df = pd.DataFrame(dataset[\"FormTable\"])\n",
    "    lects_df = pd.DataFrame(dataset[\"LanguageTable\"])\n",
    "    print(\"Loaded data.\")\n",
    "    return data_df, lects_df"
   ]
  },
  {
   "cell_type": "code",
   "execution_count": null,
   "id": "9d9edd20",
   "metadata": {},
   "outputs": [],
   "source": []
  }
 ],
 "metadata": {
  "kernelspec": {
   "display_name": "env37",
   "language": "python",
   "name": "env37"
  },
  "language_info": {
   "codemirror_mode": {
    "name": "ipython",
    "version": 3
   },
   "file_extension": ".py",
   "mimetype": "text/x-python",
   "name": "python",
   "nbconvert_exporter": "python",
   "pygments_lexer": "ipython3",
   "version": "3.7.12"
  }
 },
 "nbformat": 4,
 "nbformat_minor": 5
}
