{
 "cells": [
  {
   "cell_type": "markdown",
   "id": "addb829e",
   "metadata": {},
   "source": [
    "# Load data"
   ]
  },
  {
   "cell_type": "code",
   "execution_count": null,
   "id": "237c9de1",
   "metadata": {},
   "outputs": [],
   "source": [
    "from sklearn import cluster\n",
    "from neupy import algorithms\n",
    "import seaborn as sns\n",
    "\n",
    "import data\n",
    "import plot\n",
    "import evaluation\n",
    "from conf import N_CLUSTERS\n",
    "\n",
    "\n",
    "data_bin, words, dim = data.load_vectors(\"binvectors256.vec\", read_first_words = 10000, sample_words=1000)"
   ]
  },
  {
   "cell_type": "markdown",
   "id": "cd4d8043",
   "metadata": {},
   "source": [
    "# Cluster using ART1\n",
    "## Cluster visualization"
   ]
  },
  {
   "cell_type": "code",
   "execution_count": null,
   "id": "9a132f5a",
   "metadata": {},
   "outputs": [],
   "source": [
    "from conf import ART_VIGILANCE, ART_LEARNING_RATE\n",
    "\n",
    "\n",
    "artnet = algorithms.ART1(\n",
    "        step=ART_LEARNING_RATE,\n",
    "        rho=ART_VIGILANCE,\n",
    "        n_clusters=N_CLUSTERS,\n",
    "        shuffle_data=False\n",
    "    )\n",
    "evaluation.report_model(artnet, data_bin, words, \"ART\")"
   ]
  },
  {
   "cell_type": "markdown",
   "id": "93afb622",
   "metadata": {},
   "source": [
    "## Explore parameters"
   ]
  },
  {
   "cell_type": "code",
   "execution_count": null,
   "id": "a3f428ec",
   "metadata": {},
   "outputs": [],
   "source": [
    "results = evaluation.art_explore_parameters(data_bin, vigilances=[0.1, 0.2, 0.3, 0.4, 0.5, 0.6, 0.7, 0.8, 0.9, 1.0], learning_rates = None, n_clusters_settings=[5,10,20,50, 100, 200])\n"
   ]
  },
  {
   "cell_type": "code",
   "execution_count": null,
   "id": "3b20cfa2",
   "metadata": {},
   "outputs": [],
   "source": [
    "sns.lineplot(data=results, x=\"vigilance\", y=\"silhouette_score\", style=\"learning_rate\", hue=\"n_clusters\", palette=\"hls\")"
   ]
  },
  {
   "cell_type": "code",
   "execution_count": null,
   "id": "e68264e2",
   "metadata": {},
   "outputs": [],
   "source": [
    "sns.lineplot(data=results, x=\"vigilance\", y=\"min_cluster_size\", style=\"learning_rate\", hue=\"n_clusters\", palette=\"hls\")"
   ]
  },
  {
   "cell_type": "markdown",
   "id": "bf8db9da",
   "metadata": {},
   "source": [
    "# Other clustering methods"
   ]
  },
  {
   "cell_type": "markdown",
   "id": "a3bbe283",
   "metadata": {},
   "source": [
    "## Agglomerative clustering"
   ]
  },
  {
   "cell_type": "code",
   "execution_count": null,
   "id": "d80beccb",
   "metadata": {
    "scrolled": true
   },
   "outputs": [],
   "source": [
    "\n",
    "# For binary, manhattan=hamming\n",
    "agg = cluster.AgglomerativeClustering(n_clusters=N_CLUSTERS, affinity=\"manhattan\", linkage=\"average\")\n",
    "evaluation.report_model(agg, data_bin, words, \"Agglomerative clustering\")"
   ]
  },
  {
   "cell_type": "markdown",
   "id": "5c6b9ce7",
   "metadata": {},
   "source": [
    "## OPTICS"
   ]
  },
  {
   "cell_type": "code",
   "execution_count": null,
   "id": "3f188bcb",
   "metadata": {
    "scrolled": true
   },
   "outputs": [],
   "source": [
    "\n",
    "opt = cluster.OPTICS(metric=\"hamming\")\n",
    "evaluation.report_model(opt, data_bin, words, \"OPTICS\")"
   ]
  },
  {
   "cell_type": "markdown",
   "id": "fdd22cc6",
   "metadata": {},
   "source": [
    "## Affinity propagation (distance metric correct?)"
   ]
  },
  {
   "cell_type": "code",
   "execution_count": null,
   "id": "8a888d85",
   "metadata": {},
   "outputs": [],
   "source": [
    "aff = cluster.AffinityPropagation(random_state=None)\n",
    "evaluation.report_model(aff, data_bin, words, \"Affinity propagation\")"
   ]
  },
  {
   "cell_type": "markdown",
   "id": "a17482da",
   "metadata": {},
   "source": [
    "## SOM (NeuPy)"
   ]
  },
  {
   "cell_type": "code",
   "execution_count": null,
   "id": "761c25ef",
   "metadata": {},
   "outputs": [],
   "source": [
    "import numpy as np\n",
    "\n",
    "\n",
    "som_neupy = algorithms.competitive.sofm.SOFM(n_inputs=dim, n_outputs=N_CLUSTERS)\n",
    "evaluation.report_model(som_neupy, data_bin, words, \"SOM-neupy\")"
   ]
  },
  {
   "cell_type": "markdown",
   "id": "2340d37a",
   "metadata": {},
   "source": [
    "## SOM (MiniSOM)"
   ]
  },
  {
   "cell_type": "code",
   "execution_count": null,
   "id": "a784b452",
   "metadata": {},
   "outputs": [],
   "source": [
    "from minisom import MiniSom\n",
    "som_minisom = MiniSom(1, N_CLUSTERS, dim, learning_rate=0.1, sigma=0.5)\n",
    "evaluation.report_model(som_minisom, data_bin, words, \"SOM-minisom\", n_clusters=N_CLUSTERS)"
   ]
  },
  {
   "cell_type": "code",
   "execution_count": null,
   "id": "f1ab50b2",
   "metadata": {},
   "outputs": [],
   "source": []
  }
 ],
 "metadata": {
  "kernelspec": {
   "display_name": "env37",
   "language": "python",
   "name": "env37"
  },
  "language_info": {
   "codemirror_mode": {
    "name": "ipython",
    "version": 3
   },
   "file_extension": ".py",
   "mimetype": "text/x-python",
   "name": "python",
   "nbconvert_exporter": "python",
   "pygments_lexer": "ipython3",
   "version": "3.7.12"
  }
 },
 "nbformat": 4,
 "nbformat_minor": 5
}
